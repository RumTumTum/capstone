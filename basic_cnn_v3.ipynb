{
 "cells": [
  {
   "cell_type": "code",
   "execution_count": 1,
   "metadata": {},
   "outputs": [],
   "source": [
    "# rewrite clean data csv\n",
    "\n",
    "# import using updated clean data csv\n",
    "# create sequential using that dataframe\n",
    "\n",
    "# Move clean model and save data csv to a py file"
   ]
  },
  {
   "cell_type": "code",
   "execution_count": 2,
   "metadata": {},
   "outputs": [
    {
     "name": "stderr",
     "output_type": "stream",
     "text": [
      "Using TensorFlow backend.\n"
     ]
    },
    {
     "name": "stdout",
     "output_type": "stream",
     "text": [
      "Python:  3.5.3 \n",
      "Keras:  2.3.0\n",
      "Tensorflow:  2.0.0\n",
      "GPU Available:  True\n",
      "Num GPUs Available:  1\n",
      "\n",
      "All devices:\n",
      "PhysicalDevice(name='/physical_device:CPU:0', device_type='CPU')\n",
      "PhysicalDevice(name='/physical_device:XLA_CPU:0', device_type='XLA_CPU')\n",
      "PhysicalDevice(name='/physical_device:XLA_GPU:0', device_type='XLA_GPU')\n",
      "PhysicalDevice(name='/physical_device:GPU:0', device_type='GPU')\n"
     ]
    }
   ],
   "source": [
    "# Checking GPU availability\n",
    "from __future__ import absolute_import, division, print_function, unicode_literals #to check for gpu\n",
    "\n",
    "# Custom libraries\n",
    "from custom_libraries import file_saving\n",
    "from custom_libraries import image_processing\n",
    "from custom_libraries import import_data\n",
    "\n",
    "# Standard libraries\n",
    "import numpy as np\n",
    "import pandas as pd\n",
    "import matplotlib.pyplot as plt\n",
    "import seaborn as sns\n",
    "%matplotlib inline\n",
    "\n",
    "# Images\n",
    "import pydicom\n",
    "import cv2\n",
    "\n",
    "# Batching for DataGenerator\n",
    "from tensorflow.python.keras.utils.data_utils import Sequence\n",
    "\n",
    "# Keras, Tensorflow and other model related\n",
    "import tensorflow as tf\n",
    "import keras\n",
    "from tensorflow.keras.models import Sequential\n",
    "from tensorflow.keras.layers import Dense, Dropout, Activation, Flatten\n",
    "from tensorflow.keras.layers import Conv2D, MaxPooling2D\n",
    "from sklearn.metrics import confusion_matrix\n",
    "\n",
    "# Checking devices and system settings\n",
    "import sys\n",
    "print(\"Python: \", sys.version[:6])\n",
    "print(\"Keras: \",keras.__version__)\n",
    "print(\"Tensorflow: \",tf.__version__)\n",
    "print(\"GPU Available: \",tf.test.is_gpu_available())\n",
    "print(\"Num GPUs Available: \", len(tf.config.experimental.list_physical_devices('GPU')))\n",
    "print(\"\\nAll devices:\", *tf.config.experimental.list_physical_devices(),sep=\"\\n\")\n",
    "\n",
    "# saving to cloud storage\n",
    "from google.cloud import storage\n",
    "import gcloud_storage #local py file\n",
    "\n"
   ]
  },
  {
   "cell_type": "code",
   "execution_count": 3,
   "metadata": {},
   "outputs": [],
   "source": [
    "# Set global variables\n",
    "batch_size=100\n",
    "dim=(512,512)\n",
    "data_path = \"../data/\"   # used when calling DataGenerator\n",
    "random_seed = 12345\n"
   ]
  },
  {
   "cell_type": "code",
   "execution_count": null,
   "metadata": {},
   "outputs": [],
   "source": []
  },
  {
   "cell_type": "markdown",
   "metadata": {},
   "source": [
    "## Import and Create Data Generator"
   ]
  },
  {
   "cell_type": "markdown",
   "metadata": {},
   "source": [
    "#### Import"
   ]
  },
  {
   "cell_type": "code",
   "execution_count": 6,
   "metadata": {},
   "outputs": [],
   "source": [
    "train_sample2 = import_data.clean_data_csv(shuffle_data = True)"
   ]
  },
  {
   "cell_type": "code",
   "execution_count": null,
   "metadata": {},
   "outputs": [],
   "source": []
  },
  {
   "cell_type": "code",
   "execution_count": 6,
   "metadata": {},
   "outputs": [],
   "source": []
  },
  {
   "cell_type": "code",
   "execution_count": 7,
   "metadata": {},
   "outputs": [],
   "source": [
    "train_sample2_each = [\n",
    "    train_sample2[train_sample2[category] ==1 ].sample(\n",
    "        n=2500,\n",
    "        replace = False, \n",
    "        random_state = random_seed)\n",
    "    for category\n",
    "    in ['epidural',\n",
    "        'intraparenchymal',\n",
    "        'intraventricular',\n",
    "        'subarachnoid',\n",
    "        'subdural']\n",
    "]\n",
    "train_sample2_each.append(\n",
    "    train_sample2[train_sample2['any'] == 0 ].sample(\n",
    "        n=2500*5,\n",
    "        replace = False, \n",
    "        random_state = random_seed)\n",
    ")"
   ]
  },
  {
   "cell_type": "code",
   "execution_count": 8,
   "metadata": {},
   "outputs": [],
   "source": [
    "train_sample2_new = pd.concat(train_sample2_each).drop_duplicates()\n",
    "train_sample2_new.reset_index(inplace = True)"
   ]
  },
  {
   "cell_type": "code",
   "execution_count": null,
   "metadata": {},
   "outputs": [],
   "source": []
  },
  {
   "cell_type": "code",
   "execution_count": 10,
   "metadata": {},
   "outputs": [],
   "source": [
    "# list(train_sample2.columns)[2:]"
   ]
  },
  {
   "cell_type": "code",
   "execution_count": null,
   "metadata": {},
   "outputs": [],
   "source": []
  },
  {
   "cell_type": "code",
   "execution_count": 12,
   "metadata": {},
   "outputs": [],
   "source": [
    "# traingen_data = train_sample2[0 : train_size].reset_index(drop=True)\n",
    "validgen_data = train_sample2[0: 128*40].reset_index(drop=True)"
   ]
  },
  {
   "cell_type": "code",
   "execution_count": 13,
   "metadata": {},
   "outputs": [],
   "source": [
    "# traingen=DataGenerator(traingen_data,data_path = data_path, batch_size = 128)#increase back to 100000\n",
    "traingen=image_processing.DataGenerator(train_sample2_new,data_path = data_path, batch_size = 128)#increase back to 100000\n",
    "validgen=image_processing.DataGenerator(validgen_data,data_path = data_path, batch_size = 128)"
   ]
  },
  {
   "cell_type": "code",
   "execution_count": 14,
   "metadata": {},
   "outputs": [],
   "source": [
    "traingen_test_data = train_sample2[0: 128*5].reset_index(drop=True)\n",
    "validgen_test_data = train_sample2[128*5: 128*6].reset_index(drop=True)\n",
    "\n",
    "traingen_test=image_processing.DataGenerator(traingen_test_data,data_path = data_path, batch_size = 128)#increase back to 100000\n",
    "validgen_test=image_processing.DataGenerator(validgen_test_data,data_path = data_path, batch_size = 128)"
   ]
  },
  {
   "cell_type": "code",
   "execution_count": 18,
   "metadata": {},
   "outputs": [],
   "source": [
    "validgen_test_binary=image_processing.DataGenerator_single_class(validgen_test_data,data_path = data_path, batch_size = 128)"
   ]
  },
  {
   "cell_type": "code",
   "execution_count": 21,
   "metadata": {},
   "outputs": [],
   "source": [
    "# validgen_test_binary[0][1]"
   ]
  },
  {
   "cell_type": "markdown",
   "metadata": {},
   "source": [
    "For an unbalanced data-set it is good to define a custom loss function like the focal loss. We will borrowed the code for this from https://www.kaggle.com/xhlulu/rsna-intracranial-simple-densenet-in-keras"
   ]
  },
  {
   "cell_type": "code",
   "execution_count": 14,
   "metadata": {},
   "outputs": [],
   "source": [
    "def focal_loss(prediction_tensor, target_tensor, weights=None, alpha=0.25, gamma=2):\n",
    "    r\"\"\"Compute focal loss for predictions.\n",
    "        Multi-labels Focal loss formula:\n",
    "            FL = -alpha * (z-p)^gamma * log(p) -(1-alpha) * p^gamma * log(1-p)\n",
    "                 ,which alpha = 0.25, gamma = 2, p = sigmoid(x), z = target_tensor.\n",
    "    Args:\n",
    "     prediction_tensor: A float tensor of shape [batch_size, num_anchors,\n",
    "        num_classes] representing the predicted logits for each class\n",
    "     target_tensor: A float tensor of shape [batch_size, num_anchors,\n",
    "        num_classes] representing one-hot encoded classification targets\n",
    "     weights: A float tensor of shape [batch_size, num_anchors]\n",
    "     alpha: A scalar tensor for focal loss alpha hyper-parameter\n",
    "     gamma: A scalar tensor for focal loss gamma hyper-parameter\n",
    "    Returns:\n",
    "        loss: A (scalar) tensor representing the value of the loss function\n",
    "    \"\"\"\n",
    "    sigmoid_p = tf.nn.sigmoid(prediction_tensor)\n",
    "    zeros = array_ops.zeros_like(sigmoid_p, dtype=sigmoid_p.dtype)\n",
    "    \n",
    "    # For poitive prediction, only need consider front part loss, back part is 0;\n",
    "    # target_tensor > zeros <=> z=1, so poitive coefficient = z - p.\n",
    "    pos_p_sub = array_ops.where(target_tensor > zeros, target_tensor - sigmoid_p, zeros)\n",
    "    \n",
    "    # For negative prediction, only need consider back part loss, front part is 0;\n",
    "    # target_tensor > zeros <=> z=1, so negative coefficient = 0.\n",
    "    neg_p_sub = array_ops.where(target_tensor > zeros, zeros, sigmoid_p)\n",
    "    per_entry_cross_ent = - alpha * (pos_p_sub ** gamma) * tf.log(tf.clip_by_value(sigmoid_p, 1e-8, 1.0)) \\\n",
    "                          - (1 - alpha) * (neg_p_sub ** gamma) * tf.log(tf.clip_by_value(1.0 - sigmoid_p, 1e-8, 1.0))\n",
    "    return tf.reduce_sum(per_entry_cross_ent)"
   ]
  },
  {
   "cell_type": "code",
   "execution_count": null,
   "metadata": {},
   "outputs": [],
   "source": []
  },
  {
   "cell_type": "code",
   "execution_count": null,
   "metadata": {},
   "outputs": [],
   "source": []
  },
  {
   "cell_type": "code",
   "execution_count": null,
   "metadata": {},
   "outputs": [],
   "source": []
  },
  {
   "cell_type": "code",
   "execution_count": null,
   "metadata": {},
   "outputs": [],
   "source": []
  },
  {
   "cell_type": "code",
   "execution_count": null,
   "metadata": {},
   "outputs": [],
   "source": []
  },
  {
   "cell_type": "code",
   "execution_count": 20,
   "metadata": {},
   "outputs": [],
   "source": [
    "model_notes = \"24600 images, balanced across each category, binary, 512\"\n",
    "model_tags = ['binary', 'img_size:512']"
   ]
  },
  {
   "cell_type": "code",
   "execution_count": null,
   "metadata": {},
   "outputs": [],
   "source": []
  },
  {
   "cell_type": "code",
   "execution_count": null,
   "metadata": {},
   "outputs": [],
   "source": []
  },
  {
   "cell_type": "markdown",
   "metadata": {},
   "source": [
    "Now that we have both Input=X , Category=y_test we can train a basic barebones model.\n",
    "Here we have a model which is like ==   CNN -> CNN->  Flatten --> Dense ---> Dense(output)"
   ]
  },
  {
   "cell_type": "code",
   "execution_count": 16,
   "metadata": {},
   "outputs": [
    {
     "name": "stdout",
     "output_type": "stream",
     "text": [
      "5/5 [==============================] - 17s 3s/step - loss: 0.3974 - accuracy: 0.8938 - val_loss: 0.3363 - val_accuracy: 0.9258\n"
     ]
    }
   ],
   "source": [
    "# Add weighted log loss - https://www.kaggle.com/akensert/inceptionv3-prev-resnet50-keras-baseline-model\n",
    "\n",
    "# RUN MODEL - RUN ONLY WHEN READY OR SKIP TO LOAD MODEL\n",
    "\n",
    "\n",
    "# enter any notes that you want stored with this model\n",
    "model_notes = model_notes\n",
    "model_tags = model_tags\n",
    "\n",
    "model = Sequential()\n",
    "\n",
    "model.add(Conv2D(32, (3, 3), input_shape=(dim[0], dim[1],1)))\n",
    "model.add(Activation('relu'))\n",
    "model.add(MaxPooling2D(pool_size=(2, 2)))\n",
    "\n",
    "model.add(Conv2D(32,(3,3)))\n",
    "model.add(Activation('relu'))\n",
    "model.add(MaxPooling2D(pool_size=(5,5)))\n",
    "\n",
    "model.add(Flatten())  \n",
    "\n",
    "# model.add(Dense(100))\n",
    "# model.add(Activation('relu'))\n",
    "\n",
    "model.add(Dense(50))\n",
    "model.add(Activation('relu'))\n",
    "\n",
    "model.add(Dense(6, activation = 'sigmoid'))\n",
    "\n",
    "# model.compile(loss='categorical_crossentropy',\n",
    "# originally the above. Why use binary vs categorical\n",
    "\n",
    "model.compile(loss='binary_crossentropy',\n",
    "              optimizer='adam',\n",
    "              metrics=['accuracy'])\n",
    "# model.compile(loss=focal_loss,\n",
    "#                optimizer='adam',\n",
    "#                metrics=['accuracy'])\n",
    "\n",
    "\n",
    "# compile(optimizer='adam', loss='binary_crossentropy', metrics=['accuracy'])\n",
    "# model.fit(X,y_train,batch_size=32,epochs=6,validation_split=0.5)\n",
    "history=model.fit_generator(\n",
    "    generator=traingen_test,\n",
    "    validation_data=validgen_test,\n",
    "    use_multiprocessing=True,\n",
    "    workers=5,\n",
    "    epochs=1)\n",
    "\n",
    "file_saving.save_model(model, return_df=False, model_notes=model_notes)\n"
   ]
  },
  {
   "cell_type": "code",
   "execution_count": null,
   "metadata": {},
   "outputs": [],
   "source": []
  },
  {
   "cell_type": "code",
   "execution_count": null,
   "metadata": {},
   "outputs": [],
   "source": []
  },
  {
   "cell_type": "code",
   "execution_count": null,
   "metadata": {},
   "outputs": [],
   "source": []
  },
  {
   "cell_type": "markdown",
   "metadata": {},
   "source": [
    "## Get Predictions"
   ]
  },
  {
   "cell_type": "code",
   "execution_count": 22,
   "metadata": {},
   "outputs": [],
   "source": [
    "# y_pred_temp_model = temp_model.predict_generator(\n",
    "#     generator=validgen,\n",
    "#     use_multiprocessing=True,\n",
    "# #     batch_size = 128,\n",
    "# #     steps= 2,\n",
    "# #     May need batch_size and steps.\n",
    "# #     If not specificied will use len(generator) which will not include the last partial batch\n",
    "#     workers=5\n",
    "# )"
   ]
  },
  {
   "cell_type": "code",
   "execution_count": 23,
   "metadata": {},
   "outputs": [],
   "source": [
    "# y_pred_temp_model_df = pd.DataFrame(y_pred_temp_model,columns=list(validgen_data.columns)[1:])"
   ]
  },
  {
   "cell_type": "code",
   "execution_count": 42,
   "metadata": {},
   "outputs": [],
   "source": [
    "def get_predictions(model, validgen):\n",
    "    y_pred = model.predict_generator(\n",
    "        generator=validgen,\n",
    "        use_multiprocessing=True,\n",
    "    #     batch_size = 128,\n",
    "    #     steps= 2,\n",
    "    #     May need batch_size and steps.\n",
    "    #     If not specificied will use len(generator) which will not include the last partial batch\n",
    "        workers=5\n",
    "    )\n",
    "    \n",
    "    y_pred_df = pd.DataFrame(y_pred,columns=list(validgen_data.columns)[1:])\n",
    "    \n",
    "    return y_pred_df"
   ]
  },
  {
   "cell_type": "code",
   "execution_count": 44,
   "metadata": {},
   "outputs": [],
   "source": [
    "y_pred_df = get_predictions(model,validgen_test)"
   ]
  },
  {
   "cell_type": "code",
   "execution_count": null,
   "metadata": {},
   "outputs": [],
   "source": []
  },
  {
   "cell_type": "code",
   "execution_count": 45,
   "metadata": {},
   "outputs": [],
   "source": [
    "columns = list(validgen_data.columns[1:])\n",
    "for column in columns:\n",
    "    y_pred_df[column + '__binary'] = y_pred_df[column].map(lambda x: 1 if x > .5 else 0)"
   ]
  },
  {
   "cell_type": "code",
   "execution_count": null,
   "metadata": {},
   "outputs": [],
   "source": []
  },
  {
   "cell_type": "code",
   "execution_count": null,
   "metadata": {},
   "outputs": [],
   "source": []
  },
  {
   "cell_type": "markdown",
   "metadata": {},
   "source": [
    "## Confusion Matrix"
   ]
  },
  {
   "cell_type": "code",
   "execution_count": 33,
   "metadata": {},
   "outputs": [],
   "source": [
    "# create a matrix of confusion matrices - each column is a column, each row is a cut-off"
   ]
  },
  {
   "cell_type": "code",
   "execution_count": 54,
   "metadata": {},
   "outputs": [],
   "source": [
    "def get_confusion_matrix(y_actual,y_pred,**kwargs):\n",
    "    from sklearn.metrics import confusion_matrix\n",
    "    cm = confusion_matrix(y_actual,y_pred,**kwargs)\n",
    "    heatmap = sns.heatmap(cm, annot=True, fmt='d', cmap=plt.cm.Blues);\n",
    "    heatmap.yaxis.set_ticklabels(heatmap.yaxis.get_ticklabels(), rotation=0, ha='right', fontsize=12)\n",
    "    heatmap.xaxis.set_ticklabels(heatmap.xaxis.get_ticklabels(), rotation=45, ha='right', fontsize=12)\n",
    "    plt.ylabel('True label');\n",
    "    plt.xlabel('Predicted label');\n"
   ]
  },
  {
   "cell_type": "code",
   "execution_count": 55,
   "metadata": {},
   "outputs": [
    {
     "data": {
      "image/png": "[encoded data removed]",
      "text/plain": [
       "<Figure size 432x288 with 2 Axes>"
      ]
     },
     "metadata": {
      "needs_background": "light"
     },
     "output_type": "display_data"
    }
   ],
   "source": [
    "get_confusion_matrix(validgen_test_data['any'],y_pred_df['any__binary'])\n"
   ]
  },
  {
   "cell_type": "code",
   "execution_count": null,
   "metadata": {},
   "outputs": [],
   "source": []
  },
  {
   "cell_type": "code",
   "execution_count": null,
   "metadata": {},
   "outputs": [],
   "source": []
  },
  {
   "cell_type": "code",
   "execution_count": null,
   "metadata": {},
   "outputs": [],
   "source": [
    "# making a prediction from a saved model"
   ]
  },
  {
   "cell_type": "code",
   "execution_count": null,
   "metadata": {},
   "outputs": [],
   "source": [
    "model.predict()"
   ]
  },
  {
   "cell_type": "code",
   "execution_count": null,
   "metadata": {},
   "outputs": [],
   "source": []
  },
  {
   "cell_type": "code",
   "execution_count": null,
   "metadata": {},
   "outputs": [],
   "source": []
  },
  {
   "cell_type": "code",
   "execution_count": null,
   "metadata": {},
   "outputs": [],
   "source": []
  },
  {
   "cell_type": "code",
   "execution_count": null,
   "metadata": {},
   "outputs": [],
   "source": []
  },
  {
   "cell_type": "code",
   "execution_count": 99,
   "metadata": {},
   "outputs": [
    {
     "data": {
      "image/png": "[encoded data removed]",
      "text/plain": [
       "<Figure size 432x288 with 1 Axes>"
      ]
     },
     "metadata": {
      "needs_background": "light"
     },
     "output_type": "display_data"
    }
   ],
   "source": [
    "# plot accuracy\n",
    "\n",
    "plt.plot(history.history['accuracy'])\n",
    "# plt.plot(history.history['val_acc'])\n",
    "plt.title('Model accuracy')\n",
    "plt.ylabel('Accuracy')\n",
    "plt.xlabel('Epoch')\n",
    "plt.legend(['Train', 'Test'], loc='upper left')\n",
    "plt.show()"
   ]
  },
  {
   "cell_type": "code",
   "execution_count": 100,
   "metadata": {},
   "outputs": [
    {
     "data": {
      "image/png": "[encoded data removed]",
      "text/plain": [
       "<Figure size 432x288 with 1 Axes>"
      ]
     },
     "metadata": {
      "needs_background": "light"
     },
     "output_type": "display_data"
    }
   ],
   "source": [
    "# plot loss\n",
    "\n",
    "plt.plot(history.history['loss'])\n",
    "plt.plot(history.history['val_loss'])\n",
    "plt.title('Model loss')\n",
    "plt.ylabel('Loss')\n",
    "plt.xlabel('Epoch')\n",
    "plt.legend(['Train', 'Test'], loc='upper left')\n",
    "plt.show()"
   ]
  },
  {
   "cell_type": "code",
   "execution_count": null,
   "metadata": {},
   "outputs": [],
   "source": []
  },
  {
   "cell_type": "code",
   "execution_count": null,
   "metadata": {},
   "outputs": [],
   "source": []
  },
  {
   "cell_type": "code",
   "execution_count": null,
   "metadata": {},
   "outputs": [],
   "source": []
  },
  {
   "cell_type": "code",
   "execution_count": null,
   "metadata": {},
   "outputs": [],
   "source": []
  },
  {
   "cell_type": "code",
   "execution_count": 101,
   "metadata": {},
   "outputs": [],
   "source": [
    "## Loading a Previous Model"
   ]
  },
  {
   "cell_type": "code",
   "execution_count": 17,
   "metadata": {},
   "outputs": [],
   "source": [
    "def load_model(root = 'models/', records_output = True, model_output = False, model_file_path = \"\"):\n",
    "    \"\"\"\n",
    "    \n",
    "    \n",
    "    \"\"\"\n",
    "    model_records_path = root+'model_records.csv'\n",
    "    df = pd.read_csv(model_records_path)\n",
    "    if not model_output:\n",
    "        return df\n",
    "    else:\n",
    "        \n",
    "        model = tf.keras.models.load_model(model_file_path)\n",
    "        if records_output:\n",
    "            return df, model\n",
    "        else:\n",
    "            return model"
   ]
  },
  {
   "cell_type": "code",
   "execution_count": 18,
   "metadata": {},
   "outputs": [
    {
     "data": {
      "text/html": [
       "<div>\n",
       "<style scoped>\n",
       "    .dataframe tbody tr th:only-of-type {\n",
       "        vertical-align: middle;\n",
       "    }\n",
       "\n",
       "    .dataframe tbody tr th {\n",
       "        vertical-align: top;\n",
       "    }\n",
       "\n",
       "    .dataframe thead th {\n",
       "        text-align: right;\n",
       "    }\n",
       "</style>\n",
       "<table border=\"1\" class=\"dataframe\">\n",
       "  <thead>\n",
       "    <tr style=\"text-align: right;\">\n",
       "      <th></th>\n",
       "      <th>epochs</th>\n",
       "      <th>layers</th>\n",
       "      <th>model_name</th>\n",
       "      <th>model_notes</th>\n",
       "      <th>model_path</th>\n",
       "      <th>model_tags</th>\n",
       "      <th>num_layers</th>\n",
       "      <th>optimizer</th>\n",
       "      <th>score</th>\n",
       "      <th>timestamp</th>\n",
       "      <th>train_size</th>\n",
       "      <th>validation_size</th>\n",
       "    </tr>\n",
       "  </thead>\n",
       "  <tbody>\n",
       "    <tr>\n",
       "      <td>8</td>\n",
       "      <td>1</td>\n",
       "      <td>[]</td>\n",
       "      <td>2019-10-11T181803_model.h5</td>\n",
       "      <td>test run with ~1000 images, using save_model(p...</td>\n",
       "      <td>models/2019-10-11T181803_model.h5</td>\n",
       "      <td>{'keras', 'tensorflow'}</td>\n",
       "      <td>0</td>\n",
       "      <td>1</td>\n",
       "      <td>1</td>\n",
       "      <td>2019-10-11 18:18:03.877753</td>\n",
       "      <td>1</td>\n",
       "      <td>1</td>\n",
       "    </tr>\n",
       "    <tr>\n",
       "      <td>9</td>\n",
       "      <td>1</td>\n",
       "      <td>[]</td>\n",
       "      <td>2019-10-13T224638_model.h5</td>\n",
       "      <td>test run with ~1000 images and ~200 valid size...</td>\n",
       "      <td>models/2019-10-13T224638_model.h5</td>\n",
       "      <td>{'keras', 'tensorflow'}</td>\n",
       "      <td>0</td>\n",
       "      <td>1</td>\n",
       "      <td>1</td>\n",
       "      <td>2019-10-13 22:46:38.409506</td>\n",
       "      <td>1</td>\n",
       "      <td>1</td>\n",
       "    </tr>\n",
       "    <tr>\n",
       "      <td>10</td>\n",
       "      <td>1</td>\n",
       "      <td>[]</td>\n",
       "      <td>2019-10-13T231208_model.h5</td>\n",
       "      <td>test run with ~1000 images and ~200 valid size...</td>\n",
       "      <td>models/2019-10-13T231208_model.h5</td>\n",
       "      <td>{'keras', 'tensorflow'}</td>\n",
       "      <td>0</td>\n",
       "      <td>1</td>\n",
       "      <td>1</td>\n",
       "      <td>2019-10-13 23:12:08.724183</td>\n",
       "      <td>1</td>\n",
       "      <td>1</td>\n",
       "    </tr>\n",
       "    <tr>\n",
       "      <td>11</td>\n",
       "      <td>1</td>\n",
       "      <td>[]</td>\n",
       "      <td>2019-10-14T153044_model.h5</td>\n",
       "      <td>test run with ~1000 images and ~200 valid size...</td>\n",
       "      <td>models/2019-10-14T153044_model.h5</td>\n",
       "      <td>{'tensorflow', 'keras'}</td>\n",
       "      <td>0</td>\n",
       "      <td>1</td>\n",
       "      <td>1</td>\n",
       "      <td>2019-10-14 15:30:44.529041</td>\n",
       "      <td>1</td>\n",
       "      <td>1</td>\n",
       "    </tr>\n",
       "    <tr>\n",
       "      <td>12</td>\n",
       "      <td>1</td>\n",
       "      <td>[]</td>\n",
       "      <td>2019-10-14T155036_model.h5</td>\n",
       "      <td>test run with ~1000 images and ~200 valid size...</td>\n",
       "      <td>models/2019-10-14T155036_model.h5</td>\n",
       "      <td>{'tensorflow', 'keras'}</td>\n",
       "      <td>0</td>\n",
       "      <td>1</td>\n",
       "      <td>1</td>\n",
       "      <td>2019-10-14 15:50:36.173946</td>\n",
       "      <td>1</td>\n",
       "      <td>1</td>\n",
       "    </tr>\n",
       "    <tr>\n",
       "      <td>13</td>\n",
       "      <td>1</td>\n",
       "      <td>[]</td>\n",
       "      <td>2019-10-14T174235_model.h5</td>\n",
       "      <td>test run with ~1000 images and ~200 valid size...</td>\n",
       "      <td>models/2019-10-14T174235_model.h5</td>\n",
       "      <td>{'tensorflow', 'keras'}</td>\n",
       "      <td>0</td>\n",
       "      <td>1</td>\n",
       "      <td>1</td>\n",
       "      <td>2019-10-14 17:42:35.160266</td>\n",
       "      <td>1</td>\n",
       "      <td>1</td>\n",
       "    </tr>\n",
       "    <tr>\n",
       "      <td>14</td>\n",
       "      <td>1</td>\n",
       "      <td>[]</td>\n",
       "      <td>2019-10-14T174315_model.h5</td>\n",
       "      <td>test run with ~1000 images and ~200 valid size...</td>\n",
       "      <td>models/2019-10-14T174315_model.h5</td>\n",
       "      <td>{'tensorflow', 'keras'}</td>\n",
       "      <td>0</td>\n",
       "      <td>1</td>\n",
       "      <td>1</td>\n",
       "      <td>2019-10-14 17:43:15.894860</td>\n",
       "      <td>1</td>\n",
       "      <td>1</td>\n",
       "    </tr>\n",
       "    <tr>\n",
       "      <td>15</td>\n",
       "      <td>1</td>\n",
       "      <td>[]</td>\n",
       "      <td>2019-10-14T193159_model.h5</td>\n",
       "      <td>testing</td>\n",
       "      <td>models/2019-10-14T193159_model.h5</td>\n",
       "      <td>{'keras', 'tensorflow'}</td>\n",
       "      <td>0</td>\n",
       "      <td>1</td>\n",
       "      <td>1</td>\n",
       "      <td>2019-10-14 19:31:59.079340</td>\n",
       "      <td>1</td>\n",
       "      <td>1</td>\n",
       "    </tr>\n",
       "    <tr>\n",
       "      <td>16</td>\n",
       "      <td>1</td>\n",
       "      <td>[]</td>\n",
       "      <td>2019-10-14T194331_model.h5</td>\n",
       "      <td>24600 images, balanced across each category in...</td>\n",
       "      <td>models/2019-10-14T194331_model.h5</td>\n",
       "      <td>{'keras', 'tensorflow'}</td>\n",
       "      <td>0</td>\n",
       "      <td>1</td>\n",
       "      <td>1</td>\n",
       "      <td>2019-10-14 19:43:31.080304</td>\n",
       "      <td>1</td>\n",
       "      <td>1</td>\n",
       "    </tr>\n",
       "    <tr>\n",
       "      <td>17</td>\n",
       "      <td>1</td>\n",
       "      <td>[]</td>\n",
       "      <td>2019-10-19T020705_model.h5</td>\n",
       "      <td>test</td>\n",
       "      <td>models/2019-10-19T020705_model.h5</td>\n",
       "      <td>{'keras', 'tensorflow'}</td>\n",
       "      <td>0</td>\n",
       "      <td>1</td>\n",
       "      <td>1</td>\n",
       "      <td>2019-10-19 02:07:05.253117</td>\n",
       "      <td>1</td>\n",
       "      <td>1</td>\n",
       "    </tr>\n",
       "  </tbody>\n",
       "</table>\n",
       "</div>"
      ],
      "text/plain": [
       "    epochs layers                  model_name  \\\n",
       "8        1     []  2019-10-11T181803_model.h5   \n",
       "9        1     []  2019-10-13T224638_model.h5   \n",
       "10       1     []  2019-10-13T231208_model.h5   \n",
       "11       1     []  2019-10-14T153044_model.h5   \n",
       "12       1     []  2019-10-14T155036_model.h5   \n",
       "13       1     []  2019-10-14T174235_model.h5   \n",
       "14       1     []  2019-10-14T174315_model.h5   \n",
       "15       1     []  2019-10-14T193159_model.h5   \n",
       "16       1     []  2019-10-14T194331_model.h5   \n",
       "17       1     []  2019-10-19T020705_model.h5   \n",
       "\n",
       "                                          model_notes  \\\n",
       "8   test run with ~1000 images, using save_model(p...   \n",
       "9   test run with ~1000 images and ~200 valid size...   \n",
       "10  test run with ~1000 images and ~200 valid size...   \n",
       "11  test run with ~1000 images and ~200 valid size...   \n",
       "12  test run with ~1000 images and ~200 valid size...   \n",
       "13  test run with ~1000 images and ~200 valid size...   \n",
       "14  test run with ~1000 images and ~200 valid size...   \n",
       "15                                            testing   \n",
       "16  24600 images, balanced across each category in...   \n",
       "17                                               test   \n",
       "\n",
       "                           model_path               model_tags  num_layers  \\\n",
       "8   models/2019-10-11T181803_model.h5  {'keras', 'tensorflow'}           0   \n",
       "9   models/2019-10-13T224638_model.h5  {'keras', 'tensorflow'}           0   \n",
       "10  models/2019-10-13T231208_model.h5  {'keras', 'tensorflow'}           0   \n",
       "11  models/2019-10-14T153044_model.h5  {'tensorflow', 'keras'}           0   \n",
       "12  models/2019-10-14T155036_model.h5  {'tensorflow', 'keras'}           0   \n",
       "13  models/2019-10-14T174235_model.h5  {'tensorflow', 'keras'}           0   \n",
       "14  models/2019-10-14T174315_model.h5  {'tensorflow', 'keras'}           0   \n",
       "15  models/2019-10-14T193159_model.h5  {'keras', 'tensorflow'}           0   \n",
       "16  models/2019-10-14T194331_model.h5  {'keras', 'tensorflow'}           0   \n",
       "17  models/2019-10-19T020705_model.h5  {'keras', 'tensorflow'}           0   \n",
       "\n",
       "    optimizer  score                   timestamp  train_size  validation_size  \n",
       "8           1      1  2019-10-11 18:18:03.877753           1                1  \n",
       "9           1      1  2019-10-13 22:46:38.409506           1                1  \n",
       "10          1      1  2019-10-13 23:12:08.724183           1                1  \n",
       "11          1      1  2019-10-14 15:30:44.529041           1                1  \n",
       "12          1      1  2019-10-14 15:50:36.173946           1                1  \n",
       "13          1      1  2019-10-14 17:42:35.160266           1                1  \n",
       "14          1      1  2019-10-14 17:43:15.894860           1                1  \n",
       "15          1      1  2019-10-14 19:31:59.079340           1                1  \n",
       "16          1      1  2019-10-14 19:43:31.080304           1                1  \n",
       "17          1      1  2019-10-19 02:07:05.253117           1                1  "
      ]
     },
     "execution_count": 18,
     "metadata": {},
     "output_type": "execute_result"
    }
   ],
   "source": [
    "# See df of most recent records\n",
    "records = load_model(records_output = True, model_output = False)\n",
    "last_record = list(records.model_path)[-1]\n",
    "records.tail(10)"
   ]
  },
  {
   "cell_type": "code",
   "execution_count": 19,
   "metadata": {},
   "outputs": [],
   "source": [
    "# load_model last model\n",
    "_, loaded_model = load_model(records_output = True, model_output = True, model_file_path = last_record)\n"
   ]
  },
  {
   "cell_type": "code",
   "execution_count": null,
   "metadata": {},
   "outputs": [],
   "source": []
  },
  {
   "cell_type": "code",
   "execution_count": 20,
   "metadata": {},
   "outputs": [],
   "source": [
    "_, temp_model = load_model(records_output = True, model_output = True, model_file_path = 'models/2019-10-14T194331_model.h5')"
   ]
  },
  {
   "cell_type": "code",
   "execution_count": null,
   "metadata": {},
   "outputs": [],
   "source": []
  },
  {
   "cell_type": "code",
   "execution_count": null,
   "metadata": {},
   "outputs": [],
   "source": [
    "# y_pred = model.predict()"
   ]
  },
  {
   "cell_type": "code",
   "execution_count": null,
   "metadata": {},
   "outputs": [],
   "source": []
  },
  {
   "cell_type": "code",
   "execution_count": 43,
   "metadata": {},
   "outputs": [
    {
     "ename": "ValueError",
     "evalue": "x and y can be no greater than 2-D, but have shapes (200,) and (200, 200, 1)",
     "output_type": "error",
     "traceback": [
      "\u001b[0;31m---------------------------------------------------------------------------\u001b[0m",
      "\u001b[0;31mValueError\u001b[0m                                Traceback (most recent call last)",
      "\u001b[0;32m<ipython-input-43-70d22dc12de9>\u001b[0m in \u001b[0;36m<module>\u001b[0;34m\u001b[0m\n\u001b[0;32m----> 1\u001b[0;31m \u001b[0mplt\u001b[0m\u001b[0;34m.\u001b[0m\u001b[0mplot\u001b[0m\u001b[0;34m(\u001b[0m\u001b[0mvalidgen\u001b[0m\u001b[0;34m[\u001b[0m\u001b[0;36m0\u001b[0m\u001b[0;34m]\u001b[0m\u001b[0;34m[\u001b[0m\u001b[0;36m0\u001b[0m\u001b[0;34m]\u001b[0m\u001b[0;34m[\u001b[0m\u001b[0;36m0\u001b[0m\u001b[0;34m]\u001b[0m\u001b[0;34m)\u001b[0m\u001b[0;34m\u001b[0m\u001b[0m\n\u001b[0m",
      "\u001b[0;32m/usr/local/lib/python3.5/dist-packages/matplotlib/pyplot.py\u001b[0m in \u001b[0;36mplot\u001b[0;34m(scalex, scaley, data, *args, **kwargs)\u001b[0m\n\u001b[1;32m   2809\u001b[0m     return gca().plot(\n\u001b[1;32m   2810\u001b[0m         *args, scalex=scalex, scaley=scaley, **({\"data\": data} if data\n\u001b[0;32m-> 2811\u001b[0;31m         is not None else {}), **kwargs)\n\u001b[0m\u001b[1;32m   2812\u001b[0m \u001b[0;34m\u001b[0m\u001b[0m\n\u001b[1;32m   2813\u001b[0m \u001b[0;34m\u001b[0m\u001b[0m\n",
      "\u001b[0;32m/usr/local/lib/python3.5/dist-packages/matplotlib/__init__.py\u001b[0m in \u001b[0;36minner\u001b[0;34m(ax, data, *args, **kwargs)\u001b[0m\n\u001b[1;32m   1808\u001b[0m                         \u001b[0;34m\"the Matplotlib list!)\"\u001b[0m \u001b[0;34m%\u001b[0m \u001b[0;34m(\u001b[0m\u001b[0mlabel_namer\u001b[0m\u001b[0;34m,\u001b[0m \u001b[0mfunc\u001b[0m\u001b[0;34m.\u001b[0m\u001b[0m__name__\u001b[0m\u001b[0;34m)\u001b[0m\u001b[0;34m,\u001b[0m\u001b[0;34m\u001b[0m\u001b[0m\n\u001b[1;32m   1809\u001b[0m                         RuntimeWarning, stacklevel=2)\n\u001b[0;32m-> 1810\u001b[0;31m             \u001b[0;32mreturn\u001b[0m \u001b[0mfunc\u001b[0m\u001b[0;34m(\u001b[0m\u001b[0max\u001b[0m\u001b[0;34m,\u001b[0m \u001b[0;34m*\u001b[0m\u001b[0margs\u001b[0m\u001b[0;34m,\u001b[0m \u001b[0;34m**\u001b[0m\u001b[0mkwargs\u001b[0m\u001b[0;34m)\u001b[0m\u001b[0;34m\u001b[0m\u001b[0m\n\u001b[0m\u001b[1;32m   1811\u001b[0m \u001b[0;34m\u001b[0m\u001b[0m\n\u001b[1;32m   1812\u001b[0m         inner.__doc__ = _add_data_doc(inner.__doc__,\n",
      "\u001b[0;32m/usr/local/lib/python3.5/dist-packages/matplotlib/axes/_axes.py\u001b[0m in \u001b[0;36mplot\u001b[0;34m(self, scalex, scaley, *args, **kwargs)\u001b[0m\n\u001b[1;32m   1609\u001b[0m         \u001b[0mkwargs\u001b[0m \u001b[0;34m=\u001b[0m \u001b[0mcbook\u001b[0m\u001b[0;34m.\u001b[0m\u001b[0mnormalize_kwargs\u001b[0m\u001b[0;34m(\u001b[0m\u001b[0mkwargs\u001b[0m\u001b[0;34m,\u001b[0m \u001b[0mmlines\u001b[0m\u001b[0;34m.\u001b[0m\u001b[0mLine2D\u001b[0m\u001b[0;34m.\u001b[0m\u001b[0m_alias_map\u001b[0m\u001b[0;34m)\u001b[0m\u001b[0;34m\u001b[0m\u001b[0m\n\u001b[1;32m   1610\u001b[0m \u001b[0;34m\u001b[0m\u001b[0m\n\u001b[0;32m-> 1611\u001b[0;31m         \u001b[0;32mfor\u001b[0m \u001b[0mline\u001b[0m \u001b[0;32min\u001b[0m \u001b[0mself\u001b[0m\u001b[0;34m.\u001b[0m\u001b[0m_get_lines\u001b[0m\u001b[0;34m(\u001b[0m\u001b[0;34m*\u001b[0m\u001b[0margs\u001b[0m\u001b[0;34m,\u001b[0m \u001b[0;34m**\u001b[0m\u001b[0mkwargs\u001b[0m\u001b[0;34m)\u001b[0m\u001b[0;34m:\u001b[0m\u001b[0;34m\u001b[0m\u001b[0m\n\u001b[0m\u001b[1;32m   1612\u001b[0m             \u001b[0mself\u001b[0m\u001b[0;34m.\u001b[0m\u001b[0madd_line\u001b[0m\u001b[0;34m(\u001b[0m\u001b[0mline\u001b[0m\u001b[0;34m)\u001b[0m\u001b[0;34m\u001b[0m\u001b[0m\n\u001b[1;32m   1613\u001b[0m             \u001b[0mlines\u001b[0m\u001b[0;34m.\u001b[0m\u001b[0mappend\u001b[0m\u001b[0;34m(\u001b[0m\u001b[0mline\u001b[0m\u001b[0;34m)\u001b[0m\u001b[0;34m\u001b[0m\u001b[0m\n",
      "\u001b[0;32m/usr/local/lib/python3.5/dist-packages/matplotlib/axes/_base.py\u001b[0m in \u001b[0;36m_grab_next_args\u001b[0;34m(self, *args, **kwargs)\u001b[0m\n\u001b[1;32m    391\u001b[0m                 \u001b[0mthis\u001b[0m \u001b[0;34m+=\u001b[0m \u001b[0margs\u001b[0m\u001b[0;34m[\u001b[0m\u001b[0;36m0\u001b[0m\u001b[0;34m]\u001b[0m\u001b[0;34m,\u001b[0m\u001b[0;34m\u001b[0m\u001b[0m\n\u001b[1;32m    392\u001b[0m                 \u001b[0margs\u001b[0m \u001b[0;34m=\u001b[0m \u001b[0margs\u001b[0m\u001b[0;34m[\u001b[0m\u001b[0;36m1\u001b[0m\u001b[0;34m:\u001b[0m\u001b[0;34m]\u001b[0m\u001b[0;34m\u001b[0m\u001b[0m\n\u001b[0;32m--> 393\u001b[0;31m             \u001b[0;32myield\u001b[0m \u001b[0;32mfrom\u001b[0m \u001b[0mself\u001b[0m\u001b[0;34m.\u001b[0m\u001b[0m_plot_args\u001b[0m\u001b[0;34m(\u001b[0m\u001b[0mthis\u001b[0m\u001b[0;34m,\u001b[0m \u001b[0mkwargs\u001b[0m\u001b[0;34m)\u001b[0m\u001b[0;34m\u001b[0m\u001b[0m\n\u001b[0m\u001b[1;32m    394\u001b[0m \u001b[0;34m\u001b[0m\u001b[0m\n\u001b[1;32m    395\u001b[0m \u001b[0;34m\u001b[0m\u001b[0m\n",
      "\u001b[0;32m/usr/local/lib/python3.5/dist-packages/matplotlib/axes/_base.py\u001b[0m in \u001b[0;36m_plot_args\u001b[0;34m(self, tup, kwargs)\u001b[0m\n\u001b[1;32m    368\u001b[0m             \u001b[0mx\u001b[0m\u001b[0;34m,\u001b[0m \u001b[0my\u001b[0m \u001b[0;34m=\u001b[0m \u001b[0mindex_of\u001b[0m\u001b[0;34m(\u001b[0m\u001b[0mtup\u001b[0m\u001b[0;34m[\u001b[0m\u001b[0;34m-\u001b[0m\u001b[0;36m1\u001b[0m\u001b[0;34m]\u001b[0m\u001b[0;34m)\u001b[0m\u001b[0;34m\u001b[0m\u001b[0m\n\u001b[1;32m    369\u001b[0m \u001b[0;34m\u001b[0m\u001b[0m\n\u001b[0;32m--> 370\u001b[0;31m         \u001b[0mx\u001b[0m\u001b[0;34m,\u001b[0m \u001b[0my\u001b[0m \u001b[0;34m=\u001b[0m \u001b[0mself\u001b[0m\u001b[0;34m.\u001b[0m\u001b[0m_xy_from_xy\u001b[0m\u001b[0;34m(\u001b[0m\u001b[0mx\u001b[0m\u001b[0;34m,\u001b[0m \u001b[0my\u001b[0m\u001b[0;34m)\u001b[0m\u001b[0;34m\u001b[0m\u001b[0m\n\u001b[0m\u001b[1;32m    371\u001b[0m \u001b[0;34m\u001b[0m\u001b[0m\n\u001b[1;32m    372\u001b[0m         \u001b[0;32mif\u001b[0m \u001b[0mself\u001b[0m\u001b[0;34m.\u001b[0m\u001b[0mcommand\u001b[0m \u001b[0;34m==\u001b[0m \u001b[0;34m'plot'\u001b[0m\u001b[0;34m:\u001b[0m\u001b[0;34m\u001b[0m\u001b[0m\n",
      "\u001b[0;32m/usr/local/lib/python3.5/dist-packages/matplotlib/axes/_base.py\u001b[0m in \u001b[0;36m_xy_from_xy\u001b[0;34m(self, x, y)\u001b[0m\n\u001b[1;32m    232\u001b[0m         \u001b[0;32mif\u001b[0m \u001b[0mx\u001b[0m\u001b[0;34m.\u001b[0m\u001b[0mndim\u001b[0m \u001b[0;34m>\u001b[0m \u001b[0;36m2\u001b[0m \u001b[0;32mor\u001b[0m \u001b[0my\u001b[0m\u001b[0;34m.\u001b[0m\u001b[0mndim\u001b[0m \u001b[0;34m>\u001b[0m \u001b[0;36m2\u001b[0m\u001b[0;34m:\u001b[0m\u001b[0;34m\u001b[0m\u001b[0m\n\u001b[1;32m    233\u001b[0m             raise ValueError(\"x and y can be no greater than 2-D, but have \"\n\u001b[0;32m--> 234\u001b[0;31m                              \"shapes {} and {}\".format(x.shape, y.shape))\n\u001b[0m\u001b[1;32m    235\u001b[0m \u001b[0;34m\u001b[0m\u001b[0m\n\u001b[1;32m    236\u001b[0m         \u001b[0;32mif\u001b[0m \u001b[0mx\u001b[0m\u001b[0;34m.\u001b[0m\u001b[0mndim\u001b[0m \u001b[0;34m==\u001b[0m \u001b[0;36m1\u001b[0m\u001b[0;34m:\u001b[0m\u001b[0;34m\u001b[0m\u001b[0m\n",
      "\u001b[0;31mValueError\u001b[0m: x and y can be no greater than 2-D, but have shapes (200,) and (200, 200, 1)"
     ]
    },
    {
     "data": {
      "image/png": "[encoded data removed]",
      "text/plain": [
       "<Figure size 432x288 with 1 Axes>"
      ]
     },
     "metadata": {
      "needs_background": "light"
     },
     "output_type": "display_data"
    }
   ],
   "source": [
    "plt.plot(validgen[0][0][0])"
   ]
  },
  {
   "cell_type": "markdown",
   "metadata": {},
   "source": [
    "# TESTING"
   ]
  },
  {
   "cell_type": "markdown",
   "metadata": {},
   "source": [
    "#### Saving and loading models"
   ]
  },
  {
   "cell_type": "code",
   "execution_count": 58,
   "metadata": {},
   "outputs": [],
   "source": [
    "# barebones function to save. Used for testing the save functions\n",
    "\n",
    "model_path = 'models/2019-10-13T224638_model.h5'\n",
    "# keras.models.save_model(model, model_path)\n",
    "loaded_model = tf.keras.models.load_model(model_path)\n"
   ]
  },
  {
   "cell_type": "code",
   "execution_count": 318,
   "metadata": {},
   "outputs": [
    {
     "name": "stdout",
     "output_type": "stream",
     "text": [
      "worked-1\n",
      "worked-2\n"
     ]
    },
    {
     "data": {
      "text/html": [
       "<div>\n",
       "<style scoped>\n",
       "    .dataframe tbody tr th:only-of-type {\n",
       "        vertical-align: middle;\n",
       "    }\n",
       "\n",
       "    .dataframe tbody tr th {\n",
       "        vertical-align: top;\n",
       "    }\n",
       "\n",
       "    .dataframe thead th {\n",
       "        text-align: right;\n",
       "    }\n",
       "</style>\n",
       "<table border=\"1\" class=\"dataframe\">\n",
       "  <thead>\n",
       "    <tr style=\"text-align: right;\">\n",
       "      <th></th>\n",
       "      <th>epochs</th>\n",
       "      <th>layers</th>\n",
       "      <th>model_name</th>\n",
       "      <th>model_notes</th>\n",
       "      <th>model_path</th>\n",
       "      <th>model_tags</th>\n",
       "      <th>num_layers</th>\n",
       "      <th>optimizer</th>\n",
       "      <th>score</th>\n",
       "      <th>timestamp</th>\n",
       "      <th>train_size</th>\n",
       "      <th>validation_size</th>\n",
       "    </tr>\n",
       "  </thead>\n",
       "  <tbody>\n",
       "    <tr>\n",
       "      <td>0</td>\n",
       "      <td>1</td>\n",
       "      <td>[]</td>\n",
       "      <td>2019-10-10T211053_model.h5</td>\n",
       "      <td>NaN</td>\n",
       "      <td>models/2019-10-10T211053_model.h5</td>\n",
       "      <td>{'keras', 'tensorflow'}</td>\n",
       "      <td>0</td>\n",
       "      <td>1</td>\n",
       "      <td>1</td>\n",
       "      <td>2019-10-10 21:10:53.796514</td>\n",
       "      <td>1</td>\n",
       "      <td>1</td>\n",
       "    </tr>\n",
       "    <tr>\n",
       "      <td>1</td>\n",
       "      <td>1</td>\n",
       "      <td>[]</td>\n",
       "      <td>2019-10-10T211056_model.h5</td>\n",
       "      <td>NaN</td>\n",
       "      <td>models/2019-10-10T211056_model.h5</td>\n",
       "      <td>{'keras', 'tensorflow'}</td>\n",
       "      <td>0</td>\n",
       "      <td>1</td>\n",
       "      <td>1</td>\n",
       "      <td>2019-10-10 21:10:56.404866</td>\n",
       "      <td>1</td>\n",
       "      <td>1</td>\n",
       "    </tr>\n",
       "    <tr>\n",
       "      <td>2</td>\n",
       "      <td>1</td>\n",
       "      <td>[]</td>\n",
       "      <td>2019-10-10T211112_model.h5</td>\n",
       "      <td>hello</td>\n",
       "      <td>models/2019-10-10T211112_model.h5</td>\n",
       "      <td>{'keras', 'tensorflow'}</td>\n",
       "      <td>0</td>\n",
       "      <td>1</td>\n",
       "      <td>1</td>\n",
       "      <td>2019-10-10 21:11:12.708478</td>\n",
       "      <td>1</td>\n",
       "      <td>1</td>\n",
       "    </tr>\n",
       "    <tr>\n",
       "      <td>3</td>\n",
       "      <td>1</td>\n",
       "      <td>[]</td>\n",
       "      <td>2019-10-10T211115_model.h5</td>\n",
       "      <td>hello</td>\n",
       "      <td>models/2019-10-10T211115_model.h5</td>\n",
       "      <td>{'keras', 'tensorflow'}</td>\n",
       "      <td>0</td>\n",
       "      <td>1</td>\n",
       "      <td>1</td>\n",
       "      <td>2019-10-10 21:11:15.211067</td>\n",
       "      <td>1</td>\n",
       "      <td>1</td>\n",
       "    </tr>\n",
       "    <tr>\n",
       "      <td>4</td>\n",
       "      <td>1</td>\n",
       "      <td>[]</td>\n",
       "      <td>2019-10-10T211116_model.h5</td>\n",
       "      <td>hello</td>\n",
       "      <td>models/2019-10-10T211116_model.h5</td>\n",
       "      <td>{'keras', 'tensorflow'}</td>\n",
       "      <td>0</td>\n",
       "      <td>1</td>\n",
       "      <td>1</td>\n",
       "      <td>2019-10-10 21:11:16.248314</td>\n",
       "      <td>1</td>\n",
       "      <td>1</td>\n",
       "    </tr>\n",
       "    <tr>\n",
       "      <td>5</td>\n",
       "      <td>1</td>\n",
       "      <td>[]</td>\n",
       "      <td>2019-10-10T211129_model.h5</td>\n",
       "      <td>hello</td>\n",
       "      <td>models/2019-10-10T211129_model.h5</td>\n",
       "      <td>{keras, tensorflow}</td>\n",
       "      <td>0</td>\n",
       "      <td>1</td>\n",
       "      <td>1</td>\n",
       "      <td>2019-10-10 21:11:29.360498</td>\n",
       "      <td>1</td>\n",
       "      <td>1</td>\n",
       "    </tr>\n",
       "  </tbody>\n",
       "</table>\n",
       "</div>"
      ],
      "text/plain": [
       "   epochs layers                  model_name model_notes  \\\n",
       "0       1     []  2019-10-10T211053_model.h5         NaN   \n",
       "1       1     []  2019-10-10T211056_model.h5         NaN   \n",
       "2       1     []  2019-10-10T211112_model.h5       hello   \n",
       "3       1     []  2019-10-10T211115_model.h5       hello   \n",
       "4       1     []  2019-10-10T211116_model.h5       hello   \n",
       "5       1     []  2019-10-10T211129_model.h5       hello   \n",
       "\n",
       "                          model_path               model_tags  num_layers  \\\n",
       "0  models/2019-10-10T211053_model.h5  {'keras', 'tensorflow'}           0   \n",
       "1  models/2019-10-10T211056_model.h5  {'keras', 'tensorflow'}           0   \n",
       "2  models/2019-10-10T211112_model.h5  {'keras', 'tensorflow'}           0   \n",
       "3  models/2019-10-10T211115_model.h5  {'keras', 'tensorflow'}           0   \n",
       "4  models/2019-10-10T211116_model.h5  {'keras', 'tensorflow'}           0   \n",
       "5  models/2019-10-10T211129_model.h5      {keras, tensorflow}           0   \n",
       "\n",
       "   optimizer  score                   timestamp  train_size  validation_size  \n",
       "0          1      1  2019-10-10 21:10:53.796514           1                1  \n",
       "1          1      1  2019-10-10 21:10:56.404866           1                1  \n",
       "2          1      1  2019-10-10 21:11:12.708478           1                1  \n",
       "3          1      1  2019-10-10 21:11:15.211067           1                1  \n",
       "4          1      1  2019-10-10 21:11:16.248314           1                1  \n",
       "5          1      1  2019-10-10 21:11:29.360498           1                1  "
      ]
     },
     "execution_count": 318,
     "metadata": {},
     "output_type": "execute_result"
    }
   ],
   "source": [
    "# test = save_model(model, model_tags = [],return_df=True, model_notes=\"hello\")\n",
    "# test"
   ]
  },
  {
   "cell_type": "code",
   "execution_count": 286,
   "metadata": {},
   "outputs": [
    {
     "data": {
      "text/html": [
       "<div>\n",
       "<style scoped>\n",
       "    .dataframe tbody tr th:only-of-type {\n",
       "        vertical-align: middle;\n",
       "    }\n",
       "\n",
       "    .dataframe tbody tr th {\n",
       "        vertical-align: top;\n",
       "    }\n",
       "\n",
       "    .dataframe thead th {\n",
       "        text-align: right;\n",
       "    }\n",
       "</style>\n",
       "<table border=\"1\" class=\"dataframe\">\n",
       "  <thead>\n",
       "    <tr style=\"text-align: right;\">\n",
       "      <th></th>\n",
       "      <th>epochs</th>\n",
       "      <th>layers</th>\n",
       "      <th>model_name</th>\n",
       "      <th>model_path</th>\n",
       "      <th>model_tags</th>\n",
       "      <th>num_layers</th>\n",
       "      <th>optimizer</th>\n",
       "      <th>score</th>\n",
       "      <th>timestamp</th>\n",
       "      <th>train_size</th>\n",
       "      <th>validation_size</th>\n",
       "    </tr>\n",
       "  </thead>\n",
       "  <tbody>\n",
       "    <tr>\n",
       "      <td>0</td>\n",
       "      <td>1</td>\n",
       "      <td>[]</td>\n",
       "      <td>2019-10-10T202614_model.h5</td>\n",
       "      <td>models/2019-10-10T202614_model.h5</td>\n",
       "      <td>{'keras', 'tensorflow'}</td>\n",
       "      <td>0</td>\n",
       "      <td>1</td>\n",
       "      <td>1</td>\n",
       "      <td>2019-10-10 20:26:14.109413</td>\n",
       "      <td>1</td>\n",
       "      <td>1</td>\n",
       "    </tr>\n",
       "    <tr>\n",
       "      <td>1</td>\n",
       "      <td>1</td>\n",
       "      <td>[]</td>\n",
       "      <td>2019-10-10T202617_model.h5</td>\n",
       "      <td>models/2019-10-10T202617_model.h5</td>\n",
       "      <td>{'keras', 'tensorflow'}</td>\n",
       "      <td>0</td>\n",
       "      <td>1</td>\n",
       "      <td>1</td>\n",
       "      <td>2019-10-10 20:26:17.506235</td>\n",
       "      <td>1</td>\n",
       "      <td>1</td>\n",
       "    </tr>\n",
       "    <tr>\n",
       "      <td>2</td>\n",
       "      <td>1</td>\n",
       "      <td>[]</td>\n",
       "      <td>2019-10-10T202618_model.h5</td>\n",
       "      <td>models/2019-10-10T202618_model.h5</td>\n",
       "      <td>{'keras', 'tensorflow'}</td>\n",
       "      <td>0</td>\n",
       "      <td>1</td>\n",
       "      <td>1</td>\n",
       "      <td>2019-10-10 20:26:18.759291</td>\n",
       "      <td>1</td>\n",
       "      <td>1</td>\n",
       "    </tr>\n",
       "    <tr>\n",
       "      <td>3</td>\n",
       "      <td>1</td>\n",
       "      <td>[]</td>\n",
       "      <td>2019-10-10T202619_model.h5</td>\n",
       "      <td>models/2019-10-10T202619_model.h5</td>\n",
       "      <td>{'keras', 'tensorflow'}</td>\n",
       "      <td>0</td>\n",
       "      <td>1</td>\n",
       "      <td>1</td>\n",
       "      <td>2019-10-10 20:26:19.641559</td>\n",
       "      <td>1</td>\n",
       "      <td>1</td>\n",
       "    </tr>\n",
       "    <tr>\n",
       "      <td>4</td>\n",
       "      <td>1</td>\n",
       "      <td>[]</td>\n",
       "      <td>2019-10-10T202620_model.h5</td>\n",
       "      <td>models/2019-10-10T202620_model.h5</td>\n",
       "      <td>{'keras', 'tensorflow'}</td>\n",
       "      <td>0</td>\n",
       "      <td>1</td>\n",
       "      <td>1</td>\n",
       "      <td>2019-10-10 20:26:20.819121</td>\n",
       "      <td>1</td>\n",
       "      <td>1</td>\n",
       "    </tr>\n",
       "    <tr>\n",
       "      <td>5</td>\n",
       "      <td>1</td>\n",
       "      <td>[]</td>\n",
       "      <td>2019-10-10T202621_model.h5</td>\n",
       "      <td>models/2019-10-10T202621_model.h5</td>\n",
       "      <td>{'keras', 'tensorflow'}</td>\n",
       "      <td>0</td>\n",
       "      <td>1</td>\n",
       "      <td>1</td>\n",
       "      <td>2019-10-10 20:26:21.808913</td>\n",
       "      <td>1</td>\n",
       "      <td>1</td>\n",
       "    </tr>\n",
       "    <tr>\n",
       "      <td>6</td>\n",
       "      <td>1</td>\n",
       "      <td>[]</td>\n",
       "      <td>2019-10-10T202622_model.h5</td>\n",
       "      <td>models/2019-10-10T202622_model.h5</td>\n",
       "      <td>{'keras', 'tensorflow'}</td>\n",
       "      <td>0</td>\n",
       "      <td>1</td>\n",
       "      <td>1</td>\n",
       "      <td>2019-10-10 20:26:22.799794</td>\n",
       "      <td>1</td>\n",
       "      <td>1</td>\n",
       "    </tr>\n",
       "    <tr>\n",
       "      <td>7</td>\n",
       "      <td>1</td>\n",
       "      <td>[]</td>\n",
       "      <td>2019-10-10T202627_model.h5</td>\n",
       "      <td>models/2019-10-10T202627_model.h5</td>\n",
       "      <td>{'keras', 'tensorflow'}</td>\n",
       "      <td>0</td>\n",
       "      <td>1</td>\n",
       "      <td>1</td>\n",
       "      <td>2019-10-10 20:26:27.330631</td>\n",
       "      <td>1</td>\n",
       "      <td>1</td>\n",
       "    </tr>\n",
       "  </tbody>\n",
       "</table>\n",
       "</div>"
      ],
      "text/plain": [
       "   epochs layers                  model_name  \\\n",
       "0       1     []  2019-10-10T202614_model.h5   \n",
       "1       1     []  2019-10-10T202617_model.h5   \n",
       "2       1     []  2019-10-10T202618_model.h5   \n",
       "3       1     []  2019-10-10T202619_model.h5   \n",
       "4       1     []  2019-10-10T202620_model.h5   \n",
       "5       1     []  2019-10-10T202621_model.h5   \n",
       "6       1     []  2019-10-10T202622_model.h5   \n",
       "7       1     []  2019-10-10T202627_model.h5   \n",
       "\n",
       "                          model_path               model_tags  num_layers  \\\n",
       "0  models/2019-10-10T202614_model.h5  {'keras', 'tensorflow'}           0   \n",
       "1  models/2019-10-10T202617_model.h5  {'keras', 'tensorflow'}           0   \n",
       "2  models/2019-10-10T202618_model.h5  {'keras', 'tensorflow'}           0   \n",
       "3  models/2019-10-10T202619_model.h5  {'keras', 'tensorflow'}           0   \n",
       "4  models/2019-10-10T202620_model.h5  {'keras', 'tensorflow'}           0   \n",
       "5  models/2019-10-10T202621_model.h5  {'keras', 'tensorflow'}           0   \n",
       "6  models/2019-10-10T202622_model.h5  {'keras', 'tensorflow'}           0   \n",
       "7  models/2019-10-10T202627_model.h5  {'keras', 'tensorflow'}           0   \n",
       "\n",
       "   optimizer  score                   timestamp  train_size  validation_size  \n",
       "0          1      1  2019-10-10 20:26:14.109413           1                1  \n",
       "1          1      1  2019-10-10 20:26:17.506235           1                1  \n",
       "2          1      1  2019-10-10 20:26:18.759291           1                1  \n",
       "3          1      1  2019-10-10 20:26:19.641559           1                1  \n",
       "4          1      1  2019-10-10 20:26:20.819121           1                1  \n",
       "5          1      1  2019-10-10 20:26:21.808913           1                1  \n",
       "6          1      1  2019-10-10 20:26:22.799794           1                1  \n",
       "7          1      1  2019-10-10 20:26:27.330631           1                1  "
      ]
     },
     "execution_count": 286,
     "metadata": {},
     "output_type": "execute_result"
    }
   ],
   "source": [
    "# root = 'models/'\n",
    "# save_as_type = 'h5' # can choose 'h5' or 'tf'\n",
    "# model_records_path = root+'model_records.csv'\n",
    "\n",
    "# df = pd.read_csv(model_records_path)\n",
    "# df"
   ]
  },
  {
   "cell_type": "code",
   "execution_count": 32,
   "metadata": {},
   "outputs": [],
   "source": [
    "# Load model, if starting from a pre-made model\n",
    "# root = 'models/'\n",
    "# records_df, model = load_model(model_file_path=\"models/2019-10-11T004440_model.h5\", model_output=True)\n",
    "\n",
    "# from keras.initializers import glorot_uniform\n",
    "\n",
    "# from keras.models import load_model\n",
    "# from keras.utils import CustomObjectScope\n",
    "# from keras.initializers import glorot_uniform\n",
    "# with CustomObjectScope({'GlorotUniform': glorot_uniform()}):\n",
    "#         loaded_model = keras.models.load_model('models/2019-10-11T004440_model.h5')\n",
    "\n",
    "# model = keras.models.load_model('models/2019-10-11T004440_model.h5',custom_objects={\"GlorotUniform\": keras.initializers.glorot_uniform})\n",
    "\n",
    "# custom_objects={\"GlorotUniform\": tf.keras.initializers.glorot_uniform}\n",
    "\n",
    "# from keras.models import load_model\n",
    "# from keras.utils import CustomObjectScope\n",
    "\n",
    "# with CustomObjectScope({'GlorotUniform': glorot_uniform()}):\n",
    "\n",
    "#         model = load_model('imdb_mlp_model.h5')\n",
    "\n",
    "# root = 'models/'\n",
    "\n",
    "# save_as_type = 'h5' # can choose 'h5' or 'tf'\n",
    "# model_records_path = root+'model_records.csv'\n",
    "\n",
    "# df = pd.read_csv(model_records_path)\n",
    "# df\n"
   ]
  },
  {
   "cell_type": "markdown",
   "metadata": {},
   "source": [
    "#### Time"
   ]
  },
  {
   "cell_type": "code",
   "execution_count": 112,
   "metadata": {},
   "outputs": [],
   "source": [
    "import time\n",
    "# import datetime\n",
    "from datetime import datetime"
   ]
  },
  {
   "cell_type": "code",
   "execution_count": 194,
   "metadata": {},
   "outputs": [
    {
     "data": {
      "text/plain": [
       "'2019-10-10T195147'"
      ]
     },
     "execution_count": 194,
     "metadata": {},
     "output_type": "execute_result"
    }
   ],
   "source": [
    "# d = date.today()\n",
    "from datetime import datetime\n",
    "d = datetime.utcnow()\n",
    "d.isoformat()\n",
    "d.strftime(\"%Y-%m-%dT%H%M%S\")"
   ]
  },
  {
   "cell_type": "code",
   "execution_count": null,
   "metadata": {},
   "outputs": [],
   "source": []
  },
  {
   "cell_type": "code",
   "execution_count": null,
   "metadata": {},
   "outputs": [],
   "source": []
  },
  {
   "cell_type": "code",
   "execution_count": null,
   "metadata": {},
   "outputs": [],
   "source": []
  },
  {
   "cell_type": "code",
   "execution_count": null,
   "metadata": {},
   "outputs": [],
   "source": []
  },
  {
   "cell_type": "code",
   "execution_count": null,
   "metadata": {},
   "outputs": [],
   "source": []
  }
 ],
 "metadata": {
  "kernelspec": {
   "display_name": "Python 3",
   "language": "python",
   "name": "python3"
  },
  "language_info": {
   "codemirror_mode": {
    "name": "ipython",
    "version": 3
   },
   "file_extension": ".py",
   "mimetype": "text/x-python",
   "name": "python",
   "nbconvert_exporter": "python",
   "pygments_lexer": "ipython3",
   "version": "3.5.3"
  }
 },
 "nbformat": 4,
 "nbformat_minor": 4
}
