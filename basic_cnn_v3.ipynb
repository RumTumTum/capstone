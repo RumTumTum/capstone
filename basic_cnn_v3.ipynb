{
 "cells": [
  {
   "cell_type": "markdown",
   "metadata": {},
   "source": [
    "What to achieve:\n",
    "- Run binary and get a good confusion matrix\n",
    "  - Run the model for 10 more epochs\n",
    "  \n",
    "Make the presentation based on this\n",
    "\n",
    "Make the model run faster and various models in parallel\n",
    "  - Add saving callback - keras.callbacks.ModelCheckpoint\n",
    "  - See if I can save history.history as a dictionary\n",
    "  - Add a way to load the function\n",
    "  - Increase # gpus or add TPU\n",
    "  - Add the Google storage saving option so that I can run simultaneous\n",
    "\n",
    "Model improvements\n",
    "- Custom loss function\n",
    "- Add the VGG16 or Densenet50\n",
    "- Add additional windows\n",
    "\n",
    "\n",
    "- Run multi-label (5 labels) and get a good confusion matrix on any\n",
    "- Add callback to save weights and reimport them each time\n",
    "- Add anything else only afterwards\n",
    "\n",
    "\n",
    "Bug - seems to be fixed for now\n",
    " - May be able to fix using the dcm metadata:\n",
    " https://www.kaggle.com/schlerp/getting-to-know-dicom-and-the-data\n",
    "``` if 'PixelData' in dataset:\n",
    "        rows = int(dataset.Rows)\n",
    "        cols = int(dataset.Columns)\n",
    "        print(\"Image size.......: {rows:d} x {cols:d}, {size:d} bytes\".format(\n",
    "            rows=rows, cols=cols, size=len(dataset.PixelData)))\n",
    "        if 'PixelSpacing' in dataset:\n",
    "            print(\"Pixel spacing....:\", dataset.PixelSpacing)```\n",
    "     \n",
    " - May be because there is a class with less than 128\n",
    "      - just 5 of each - validation and other\n",
    "      - just 128 of each - validation and other\n",
    "      - a train with only 128 and the same validation that we have now\n",
    "      - Same train that we have now except stopping at a multiple of 128\n",
    " - May be in the validation data\n",
    "      - a train with only 128 and the same validation that we have now\n",
    " - Try\n",
    "\n",
    "Solution\n",
    "    - One issue seems to be in validation\n",
    "     - tried traingen w/ 128 and validgen with 128. Got an error regarding shape not being an attribute of DataGenerator_single_class\n",
    "     - tried the same thing without validation data and didn't get any issue.\n",
    "     - therefor at least one problem is with the validation data step\n",
    "\n",
    "    - One option is to skip the validation step\n",
    "\n",
    "    - Currently just running everything as normal except using test and valid data equal to multiples of batch_size"
   ]
  },
  {
   "cell_type": "code",
   "execution_count": 1,
   "metadata": {},
   "outputs": [
    {
     "name": "stderr",
     "output_type": "stream",
     "text": [
      "Using TensorFlow backend.\n"
     ]
    },
    {
     "name": "stdout",
     "output_type": "stream",
     "text": [
      "Python:  3.5.3 \n",
      "Keras:  2.3.0\n",
      "Tensorflow:  2.0.0\n",
      "GPU Available:  True\n",
      "Num GPUs Available:  2\n",
      "\n",
      "All devices:\n",
      "PhysicalDevice(name='/physical_device:CPU:0', device_type='CPU')\n",
      "PhysicalDevice(name='/physical_device:XLA_CPU:0', device_type='XLA_CPU')\n",
      "PhysicalDevice(name='/physical_device:XLA_GPU:0', device_type='XLA_GPU')\n",
      "PhysicalDevice(name='/physical_device:XLA_GPU:1', device_type='XLA_GPU')\n",
      "PhysicalDevice(name='/physical_device:GPU:0', device_type='GPU')\n",
      "PhysicalDevice(name='/physical_device:GPU:1', device_type='GPU')\n"
     ]
    }
   ],
   "source": [
    "# Checking GPU availability\n",
    "from __future__ import absolute_import, division, print_function, unicode_literals #to check for gpu\n",
    "\n",
    "# Custom libraries\n",
    "from custom_libraries import file_saving\n",
    "from custom_libraries import image_processing\n",
    "from custom_libraries import import_data\n",
    "from custom_libraries import model_support\n",
    "\n",
    "# Standard libraries\n",
    "import numpy as np\n",
    "import pandas as pd\n",
    "import matplotlib.pyplot as plt\n",
    "import seaborn as sns\n",
    "%matplotlib inline\n",
    "\n",
    "# Images\n",
    "import pydicom\n",
    "import cv2\n",
    "\n",
    "# Batching for DataGenerator\n",
    "from tensorflow.python.keras.utils.data_utils import Sequence\n",
    "\n",
    "# Keras, Tensorflow and other model related\n",
    "import tensorflow as tf\n",
    "import keras\n",
    "from tensorflow.keras.models import Sequential\n",
    "from tensorflow.keras.layers import Dense, Dropout, Activation, Flatten\n",
    "from tensorflow.keras.layers import Conv2D, MaxPooling2D\n",
    "from sklearn.metrics import confusion_matrix\n",
    "from sklearn.utils import shuffle\n",
    "from sklearn.model_selection import train_test_split\n",
    "\n",
    "# Checking devices and system settings\n",
    "import sys\n",
    "print(\"Python: \", sys.version[:6])\n",
    "print(\"Keras: \",keras.__version__)\n",
    "print(\"Tensorflow: \",tf.__version__)\n",
    "print(\"GPU Available: \",tf.test.is_gpu_available())\n",
    "print(\"Num GPUs Available: \", len(tf.config.experimental.list_physical_devices('GPU')))\n",
    "print(\"\\nAll devices:\", *tf.config.experimental.list_physical_devices(),sep=\"\\n\")\n",
    "gpu_count = len(tf.config.experimental.list_physical_devices('GPU'))\n",
    "\n",
    "# saving to cloud storage\n",
    "from google.cloud import storage\n",
    "from custom_libraries import gcloud_storage\n"
   ]
  },
  {
   "cell_type": "code",
   "execution_count": 2,
   "metadata": {},
   "outputs": [],
   "source": [
    "# Set global variables\n",
    "batch_size=128\n",
    "dim=(512,512)\n",
    "data_path = \"../data/\"   # used when calling DataGenerator\n",
    "random_seed = 12345\n"
   ]
  },
  {
   "cell_type": "markdown",
   "metadata": {},
   "source": [
    "## Import Data and Create Data Generator"
   ]
  },
  {
   "cell_type": "code",
   "execution_count": 3,
   "metadata": {},
   "outputs": [],
   "source": [
    "image_list = import_data.clean_data_csv(shuffle_data = True)\n",
    "data = import_data.balanced_images_binary(image_list)\n",
    "train_data, valid_data = train_test_split(data, test_size = 0.15, random_state = random_seed)"
   ]
  },
  {
   "cell_type": "code",
   "execution_count": 4,
   "metadata": {},
   "outputs": [],
   "source": [
    "# bug fixing\n",
    "train_data_excess = len(train_data) % batch_size\n",
    "valid_data_excess = len(valid_data) % batch_size\n",
    "\n",
    "train_data = train_data[:-train_data_excess]\n",
    "valid_data = valid_data[:-valid_data_excess]"
   ]
  },
  {
   "cell_type": "code",
   "execution_count": 5,
   "metadata": {},
   "outputs": [],
   "source": [
    "traingen=image_processing.DataGenerator_single_class(train_data,data_path = data_path, batch_size = batch_size)\n",
    "validgen=image_processing.DataGenerator_single_class(valid_data,data_path = data_path, batch_size = batch_size)"
   ]
  },
  {
   "cell_type": "code",
   "execution_count": 6,
   "metadata": {},
   "outputs": [],
   "source": [
    "train_data_test = train_data[0:batch_size*5]\n",
    "valid_data_test = valid_data[0:batch_size*1]\n",
    "\n",
    "traingen_test=image_processing.DataGenerator_single_class(train_data_test,data_path = data_path, batch_size = batch_size)\n",
    "validgen_test=image_processing.DataGenerator_single_class(valid_data_test,data_path = data_path, batch_size = batch_size)"
   ]
  },
  {
   "cell_type": "code",
   "execution_count": 7,
   "metadata": {},
   "outputs": [
    {
     "name": "stdout",
     "output_type": "stream",
     "text": [
      "<class 'pandas.core.frame.DataFrame'>\n",
      "Int64Index: 164992 entries, 168778 to 110024\n",
      "Data columns (total 7 columns):\n",
      "filename            164992 non-null object\n",
      "any                 164992 non-null int64\n",
      "epidural            164992 non-null int64\n",
      "intraparenchymal    164992 non-null int64\n",
      "intraventricular    164992 non-null int64\n",
      "subarachnoid        164992 non-null int64\n",
      "subdural            164992 non-null int64\n",
      "dtypes: int64(6), object(1)\n",
      "memory usage: 10.1+ MB\n"
     ]
    }
   ],
   "source": [
    "train_data.info()"
   ]
  },
  {
   "cell_type": "markdown",
   "metadata": {},
   "source": [
    "## Run Model"
   ]
  },
  {
   "cell_type": "code",
   "execution_count": 8,
   "metadata": {},
   "outputs": [],
   "source": [
    "# option to load latest model\n",
    "records = file_saving.load_model(records_output = True, model_output = False)\n",
    "last_record = list(records.model_path)[-1]\n",
    "loaded_model = file_saving.load_model(records_output = False, model_output = True, model_file_path = last_record)\n",
    "model = loaded_model"
   ]
  },
  {
   "cell_type": "code",
   "execution_count": 11,
   "metadata": {},
   "outputs": [
    {
     "name": "stdout",
     "output_type": "stream",
     "text": [
      "Model: \"sequential_9\"\n",
      "_________________________________________________________________\n",
      "Layer (type)                 Output Shape              Param #   \n",
      "=================================================================\n",
      "conv2d_18 (Conv2D)           (None, 510, 510, 32)      320       \n",
      "_________________________________________________________________\n",
      "activation_27 (Activation)   (None, 510, 510, 32)      0         \n",
      "_________________________________________________________________\n",
      "max_pooling2d_18 (MaxPooling (None, 255, 255, 32)      0         \n",
      "_________________________________________________________________\n",
      "conv2d_19 (Conv2D)           (None, 253, 253, 32)      9248      \n",
      "_________________________________________________________________\n",
      "activation_28 (Activation)   (None, 253, 253, 32)      0         \n",
      "_________________________________________________________________\n",
      "max_pooling2d_19 (MaxPooling (None, 50, 50, 32)        0         \n",
      "_________________________________________________________________\n",
      "flatten_9 (Flatten)          (None, 80000)             0         \n",
      "_________________________________________________________________\n",
      "dense_27 (Dense)             (None, 50)                4000050   \n",
      "_________________________________________________________________\n",
      "activation_29 (Activation)   (None, 50)                0         \n",
      "_________________________________________________________________\n",
      "dense_28 (Dense)             (None, 6)                 306       \n",
      "_________________________________________________________________\n",
      "dense_29 (Dense)             (None, 1)                 7         \n",
      "=================================================================\n",
      "Total params: 4,009,931\n",
      "Trainable params: 4,009,931\n",
      "Non-trainable params: 0\n",
      "_________________________________________________________________\n"
     ]
    }
   ],
   "source": [
    "model.summary()"
   ]
  },
  {
   "cell_type": "code",
   "execution_count": 9,
   "metadata": {},
   "outputs": [],
   "source": [
    "# Add weighted log loss - https://www.kaggle.com/akensert/inceptionv3-prev-resnet50-keras-baseline-model\n",
    "model_notes = \"continuing 165k train images, balanced across any and none, binary, 512\"\n",
    "model_tags = ['binary', 'img_size:512']\n",
    "\n",
    "epochs = 1\n",
    "loss='binary_crossentropy'\n",
    "optimizer='adam'"
   ]
  },
  {
   "cell_type": "code",
   "execution_count": 11,
   "metadata": {},
   "outputs": [],
   "source": [
    "# model_notes = \"test, binary, 512\"\n",
    "# model_tags = ['binary', 'img_size:512', 'test']"
   ]
  },
  {
   "cell_type": "code",
   "execution_count": 123,
   "metadata": {},
   "outputs": [
    {
     "name": "stdout",
     "output_type": "stream",
     "text": [
      "Epoch 1/3\n",
      "1289/1289 [==============================] - 2390s 2s/step - loss: 0.4970 - accuracy: 0.7541 - val_loss: 0.4613 - val_accuracy: 0.7769\n",
      "Epoch 2/3\n",
      "1289/1289 [==============================] - 2381s 2s/step - loss: 0.4066 - accuracy: 0.8154 - val_loss: 0.4002 - val_accuracy: 0.8192\n",
      "Epoch 3/3\n",
      "1289/1289 [==============================] - 2395s 2s/step - loss: 0.3239 - accuracy: 0.8616 - val_loss: 0.3614 - val_accuracy: 0.8420\n"
     ]
    },
    {
     "data": {
      "text/html": [
       "<div>\n",
       "<style scoped>\n",
       "    .dataframe tbody tr th:only-of-type {\n",
       "        vertical-align: middle;\n",
       "    }\n",
       "\n",
       "    .dataframe tbody tr th {\n",
       "        vertical-align: top;\n",
       "    }\n",
       "\n",
       "    .dataframe thead th {\n",
       "        text-align: right;\n",
       "    }\n",
       "</style>\n",
       "<table border=\"1\" class=\"dataframe\">\n",
       "  <thead>\n",
       "    <tr style=\"text-align: right;\">\n",
       "      <th></th>\n",
       "      <th>epochs</th>\n",
       "      <th>layers</th>\n",
       "      <th>model_name</th>\n",
       "      <th>model_notes</th>\n",
       "      <th>model_path</th>\n",
       "      <th>model_tags</th>\n",
       "      <th>num_layers</th>\n",
       "      <th>optimizer</th>\n",
       "      <th>score</th>\n",
       "      <th>timestamp</th>\n",
       "      <th>train_size</th>\n",
       "      <th>validation_size</th>\n",
       "    </tr>\n",
       "  </thead>\n",
       "  <tbody>\n",
       "    <tr>\n",
       "      <td>23</td>\n",
       "      <td>1</td>\n",
       "      <td>[]</td>\n",
       "      <td>2019-10-21T013017_model.h5</td>\n",
       "      <td>test, binary, 512</td>\n",
       "      <td>models/2019-10-21T013017_model.h5</td>\n",
       "      <td>{'keras', 'tensorflow'}</td>\n",
       "      <td>0</td>\n",
       "      <td>1</td>\n",
       "      <td>1</td>\n",
       "      <td>2019-10-21 01:30:17.505741</td>\n",
       "      <td>1</td>\n",
       "      <td>1</td>\n",
       "    </tr>\n",
       "    <tr>\n",
       "      <td>24</td>\n",
       "      <td>1</td>\n",
       "      <td>[]</td>\n",
       "      <td>2019-10-21T013140_model.h5</td>\n",
       "      <td>test, binary, 512</td>\n",
       "      <td>models/2019-10-21T013140_model.h5</td>\n",
       "      <td>{'keras', 'tensorflow'}</td>\n",
       "      <td>0</td>\n",
       "      <td>1</td>\n",
       "      <td>1</td>\n",
       "      <td>2019-10-21 01:31:40.354051</td>\n",
       "      <td>1</td>\n",
       "      <td>1</td>\n",
       "    </tr>\n",
       "    <tr>\n",
       "      <td>25</td>\n",
       "      <td>1</td>\n",
       "      <td>[]</td>\n",
       "      <td>2019-10-21T033555_model.h5</td>\n",
       "      <td>165k train images, balanced across any and non...</td>\n",
       "      <td>models/2019-10-21T033555_model.h5</td>\n",
       "      <td>{keras, tensorflow}</td>\n",
       "      <td>0</td>\n",
       "      <td>1</td>\n",
       "      <td>1</td>\n",
       "      <td>2019-10-21 03:35:55.310261</td>\n",
       "      <td>1</td>\n",
       "      <td>1</td>\n",
       "    </tr>\n",
       "  </tbody>\n",
       "</table>\n",
       "</div>"
      ],
      "text/plain": [
       "    epochs layers                  model_name  \\\n",
       "23       1     []  2019-10-21T013017_model.h5   \n",
       "24       1     []  2019-10-21T013140_model.h5   \n",
       "25       1     []  2019-10-21T033555_model.h5   \n",
       "\n",
       "                                          model_notes  \\\n",
       "23                                  test, binary, 512   \n",
       "24                                  test, binary, 512   \n",
       "25  165k train images, balanced across any and non...   \n",
       "\n",
       "                           model_path               model_tags  num_layers  \\\n",
       "23  models/2019-10-21T013017_model.h5  {'keras', 'tensorflow'}           0   \n",
       "24  models/2019-10-21T013140_model.h5  {'keras', 'tensorflow'}           0   \n",
       "25  models/2019-10-21T033555_model.h5      {keras, tensorflow}           0   \n",
       "\n",
       "    optimizer  score                   timestamp  train_size  validation_size  \n",
       "23          1      1  2019-10-21 01:30:17.505741           1                1  \n",
       "24          1      1  2019-10-21 01:31:40.354051           1                1  \n",
       "25          1      1  2019-10-21 03:35:55.310261           1                1  "
      ]
     },
     "execution_count": 123,
     "metadata": {},
     "output_type": "execute_result"
    }
   ],
   "source": [
    "model = Sequential()\n",
    "\n",
    "model.add(Conv2D(32, (3, 3), input_shape=(dim[0], dim[1],1)))\n",
    "model.add(Activation('relu'))\n",
    "model.add(MaxPooling2D(pool_size=(2, 2)))\n",
    "\n",
    "model.add(Conv2D(32,(3,3)))\n",
    "model.add(Activation('relu'))\n",
    "model.add(MaxPooling2D(pool_size=(5,5)))\n",
    "\n",
    "model.add(Flatten())  \n",
    "\n",
    "# model.add(Dense(100))\n",
    "# model.add(Activation('relu'))\n",
    "\n",
    "model.add(Dense(50))\n",
    "model.add(Activation('relu'))\n",
    "\n",
    "# for 6 classes\n",
    "model.add(Dense(6, activation = 'sigmoid'))\n",
    "\n",
    "# for 1 class\n",
    "model.add(Dense(1, activation = 'sigmoid'))\n",
    "\n",
    "\n",
    "# model.compile(loss='categorical_crossentropy',\n",
    "# originally the above. Why use binary vs categorical\n",
    "\n",
    "model.compile(loss=loss,\n",
    "              optimizer=optimizer,\n",
    "              metrics=['accuracy'])\n",
    "# model.compile(loss=focal_loss,\n",
    "#                optimizer='adam',\n",
    "#                metrics=['accuracy'])"
   ]
  },
  {
   "cell_type": "code",
   "execution_count": 42,
   "metadata": {},
   "outputs": [
    {
     "name": "stdout",
     "output_type": "stream",
     "text": [
      " 766/1289 [================>.............] - ETA: 13:39 - loss: 0.2608 - accuracy: 0.8949"
     ]
    },
    {
     "ename": "ValueError",
     "evalue": "The length of the pixel data in the dataset (153710 bytes) doesn't match the expected length (524288 bytes). The dataset may be corrupted or there may be an issue with the pixel data handler.",
     "output_type": "error",
     "traceback": [
      "\u001b[0;31m---------------------------------------------------------------------------\u001b[0m",
      "\u001b[0;31mRemoteTraceback\u001b[0m                           Traceback (most recent call last)",
      "\u001b[0;31mRemoteTraceback\u001b[0m: \n\"\"\"\nTraceback (most recent call last):\n  File \"/usr/lib/python3.5/multiprocessing/pool.py\", line 119, in worker\n    result = (True, func(*args, **kwds))\n  File \"/usr/local/lib/python3.5/dist-packages/tensorflow_core/python/keras/utils/data_utils.py\", line 571, in get_index\n    return _SHARED_SEQUENCES[uid][i]\n  File \"/home/jupyter/capstone/custom_libraries/image_processing.py\", line 133, in __getitem__\n    X, y = self.__data_generation(list_IDs_temp,list_label_temp)\n  File \"/home/jupyter/capstone/custom_libraries/image_processing.py\", line 151, in __data_generation\n    raw=ds.pixel_array\n  File \"/home/jupyter/.local/lib/python3.5/site-packages/pydicom/dataset.py\", line 1362, in pixel_array\n    self.convert_pixel_data()\n  File \"/home/jupyter/.local/lib/python3.5/site-packages/pydicom/dataset.py\", line 1308, in convert_pixel_data\n    raise last_exception\n  File \"/home/jupyter/.local/lib/python3.5/site-packages/pydicom/dataset.py\", line 1276, in convert_pixel_data\n    arr = handler.get_pixeldata(self)\n  File \"/home/jupyter/.local/lib/python3.5/site-packages/pydicom/pixel_data_handlers/numpy_handler.py\", line 257, in get_pixeldata\n    .format(actual_length, padded_expected_len)\nValueError: The length of the pixel data in the dataset (153710 bytes) doesn't match the expected length (524288 bytes). The dataset may be corrupted or there may be an issue with the pixel data handler.\n\"\"\"",
      "\nThe above exception was the direct cause of the following exception:\n",
      "\u001b[0;31mValueError\u001b[0m                                Traceback (most recent call last)",
      "\u001b[0;32m<ipython-input-42-7765b108d4b2>\u001b[0m in \u001b[0;36m<module>\u001b[0;34m\u001b[0m\n\u001b[1;32m      6\u001b[0m     \u001b[0muse_multiprocessing\u001b[0m\u001b[0;34m=\u001b[0m\u001b[0;32mTrue\u001b[0m\u001b[0;34m,\u001b[0m\u001b[0;34m\u001b[0m\u001b[0m\n\u001b[1;32m      7\u001b[0m     \u001b[0mworkers\u001b[0m\u001b[0;34m=\u001b[0m\u001b[0;36m11\u001b[0m\u001b[0;34m,\u001b[0m\u001b[0;34m\u001b[0m\u001b[0m\n\u001b[0;32m----> 8\u001b[0;31m     epochs=epochs)\n\u001b[0m\u001b[1;32m      9\u001b[0m \u001b[0;34m\u001b[0m\u001b[0m\n\u001b[1;32m     10\u001b[0m file_saving.save_model(\n",
      "\u001b[0;32m/usr/local/lib/python3.5/dist-packages/tensorflow_core/python/keras/engine/training.py\u001b[0m in \u001b[0;36mfit_generator\u001b[0;34m(self, generator, steps_per_epoch, epochs, verbose, callbacks, validation_data, validation_steps, validation_freq, class_weight, max_queue_size, workers, use_multiprocessing, shuffle, initial_epoch)\u001b[0m\n\u001b[1;32m   1295\u001b[0m         \u001b[0mshuffle\u001b[0m\u001b[0;34m=\u001b[0m\u001b[0mshuffle\u001b[0m\u001b[0;34m,\u001b[0m\u001b[0;34m\u001b[0m\u001b[0m\n\u001b[1;32m   1296\u001b[0m         \u001b[0minitial_epoch\u001b[0m\u001b[0;34m=\u001b[0m\u001b[0minitial_epoch\u001b[0m\u001b[0;34m,\u001b[0m\u001b[0;34m\u001b[0m\u001b[0m\n\u001b[0;32m-> 1297\u001b[0;31m         steps_name='steps_per_epoch')\n\u001b[0m\u001b[1;32m   1298\u001b[0m \u001b[0;34m\u001b[0m\u001b[0m\n\u001b[1;32m   1299\u001b[0m   def evaluate_generator(self,\n",
      "\u001b[0;32m/usr/local/lib/python3.5/dist-packages/tensorflow_core/python/keras/engine/training_generator.py\u001b[0m in \u001b[0;36mmodel_iteration\u001b[0;34m(model, data, steps_per_epoch, epochs, verbose, callbacks, validation_data, validation_steps, validation_freq, class_weight, max_queue_size, workers, use_multiprocessing, shuffle, initial_epoch, mode, batch_size, steps_name, **kwargs)\u001b[0m\n\u001b[1;32m    219\u001b[0m     \u001b[0mstep\u001b[0m \u001b[0;34m=\u001b[0m \u001b[0;36m0\u001b[0m\u001b[0;34m\u001b[0m\u001b[0m\n\u001b[1;32m    220\u001b[0m     \u001b[0;32mwhile\u001b[0m \u001b[0mstep\u001b[0m \u001b[0;34m<\u001b[0m \u001b[0mtarget_steps\u001b[0m\u001b[0;34m:\u001b[0m\u001b[0;34m\u001b[0m\u001b[0m\n\u001b[0;32m--> 221\u001b[0;31m       \u001b[0mbatch_data\u001b[0m \u001b[0;34m=\u001b[0m \u001b[0m_get_next_batch\u001b[0m\u001b[0;34m(\u001b[0m\u001b[0mgenerator\u001b[0m\u001b[0;34m)\u001b[0m\u001b[0;34m\u001b[0m\u001b[0m\n\u001b[0m\u001b[1;32m    222\u001b[0m       \u001b[0;32mif\u001b[0m \u001b[0mbatch_data\u001b[0m \u001b[0;32mis\u001b[0m \u001b[0;32mNone\u001b[0m\u001b[0;34m:\u001b[0m\u001b[0;34m\u001b[0m\u001b[0m\n\u001b[1;32m    223\u001b[0m         \u001b[0;32mif\u001b[0m \u001b[0mis_dataset\u001b[0m\u001b[0;34m:\u001b[0m\u001b[0;34m\u001b[0m\u001b[0m\n",
      "\u001b[0;32m/usr/local/lib/python3.5/dist-packages/tensorflow_core/python/keras/engine/training_generator.py\u001b[0m in \u001b[0;36m_get_next_batch\u001b[0;34m(generator)\u001b[0m\n\u001b[1;32m    361\u001b[0m   \u001b[0;34m\"\"\"Retrieves the next batch of input data.\"\"\"\u001b[0m\u001b[0;34m\u001b[0m\u001b[0m\n\u001b[1;32m    362\u001b[0m   \u001b[0;32mtry\u001b[0m\u001b[0;34m:\u001b[0m\u001b[0;34m\u001b[0m\u001b[0m\n\u001b[0;32m--> 363\u001b[0;31m     \u001b[0mgenerator_output\u001b[0m \u001b[0;34m=\u001b[0m \u001b[0mnext\u001b[0m\u001b[0;34m(\u001b[0m\u001b[0mgenerator\u001b[0m\u001b[0;34m)\u001b[0m\u001b[0;34m\u001b[0m\u001b[0m\n\u001b[0m\u001b[1;32m    364\u001b[0m   \u001b[0;32mexcept\u001b[0m \u001b[0;34m(\u001b[0m\u001b[0mStopIteration\u001b[0m\u001b[0;34m,\u001b[0m \u001b[0merrors\u001b[0m\u001b[0;34m.\u001b[0m\u001b[0mOutOfRangeError\u001b[0m\u001b[0;34m)\u001b[0m\u001b[0;34m:\u001b[0m\u001b[0;34m\u001b[0m\u001b[0m\n\u001b[1;32m    365\u001b[0m     \u001b[0;32mreturn\u001b[0m \u001b[0;32mNone\u001b[0m\u001b[0;34m\u001b[0m\u001b[0m\n",
      "\u001b[0;32m/usr/local/lib/python3.5/dist-packages/tensorflow_core/python/keras/utils/data_utils.py\u001b[0m in \u001b[0;36mget\u001b[0;34m(self)\u001b[0m\n\u001b[1;32m    783\u001b[0m     \u001b[0;32mexcept\u001b[0m \u001b[0mException\u001b[0m\u001b[0;34m:\u001b[0m  \u001b[0;31m# pylint: disable=broad-except\u001b[0m\u001b[0;34m\u001b[0m\u001b[0m\n\u001b[1;32m    784\u001b[0m       \u001b[0mself\u001b[0m\u001b[0;34m.\u001b[0m\u001b[0mstop\u001b[0m\u001b[0;34m(\u001b[0m\u001b[0;34m)\u001b[0m\u001b[0;34m\u001b[0m\u001b[0m\n\u001b[0;32m--> 785\u001b[0;31m       \u001b[0msix\u001b[0m\u001b[0;34m.\u001b[0m\u001b[0mreraise\u001b[0m\u001b[0;34m(\u001b[0m\u001b[0;34m*\u001b[0m\u001b[0msys\u001b[0m\u001b[0;34m.\u001b[0m\u001b[0mexc_info\u001b[0m\u001b[0;34m(\u001b[0m\u001b[0;34m)\u001b[0m\u001b[0;34m)\u001b[0m\u001b[0;34m\u001b[0m\u001b[0m\n\u001b[0m\u001b[1;32m    786\u001b[0m \u001b[0;34m\u001b[0m\u001b[0m\n\u001b[1;32m    787\u001b[0m \u001b[0;34m\u001b[0m\u001b[0m\n",
      "\u001b[0;32m/usr/local/lib/python3.5/dist-packages/six.py\u001b[0m in \u001b[0;36mreraise\u001b[0;34m(tp, value, tb)\u001b[0m\n\u001b[1;32m    691\u001b[0m             \u001b[0;32mif\u001b[0m \u001b[0mvalue\u001b[0m\u001b[0;34m.\u001b[0m\u001b[0m__traceback__\u001b[0m \u001b[0;32mis\u001b[0m \u001b[0;32mnot\u001b[0m \u001b[0mtb\u001b[0m\u001b[0;34m:\u001b[0m\u001b[0;34m\u001b[0m\u001b[0m\n\u001b[1;32m    692\u001b[0m                 \u001b[0;32mraise\u001b[0m \u001b[0mvalue\u001b[0m\u001b[0;34m.\u001b[0m\u001b[0mwith_traceback\u001b[0m\u001b[0;34m(\u001b[0m\u001b[0mtb\u001b[0m\u001b[0;34m)\u001b[0m\u001b[0;34m\u001b[0m\u001b[0m\n\u001b[0;32m--> 693\u001b[0;31m             \u001b[0;32mraise\u001b[0m \u001b[0mvalue\u001b[0m\u001b[0;34m\u001b[0m\u001b[0m\n\u001b[0m\u001b[1;32m    694\u001b[0m         \u001b[0;32mfinally\u001b[0m\u001b[0;34m:\u001b[0m\u001b[0;34m\u001b[0m\u001b[0m\n\u001b[1;32m    695\u001b[0m             \u001b[0mvalue\u001b[0m \u001b[0;34m=\u001b[0m \u001b[0;32mNone\u001b[0m\u001b[0;34m\u001b[0m\u001b[0m\n",
      "\u001b[0;32m/usr/local/lib/python3.5/dist-packages/tensorflow_core/python/keras/utils/data_utils.py\u001b[0m in \u001b[0;36mget\u001b[0;34m(self)\u001b[0m\n\u001b[1;32m    777\u001b[0m     \u001b[0;32mtry\u001b[0m\u001b[0;34m:\u001b[0m\u001b[0;34m\u001b[0m\u001b[0m\n\u001b[1;32m    778\u001b[0m       \u001b[0;32mwhile\u001b[0m \u001b[0mself\u001b[0m\u001b[0;34m.\u001b[0m\u001b[0mis_running\u001b[0m\u001b[0;34m(\u001b[0m\u001b[0;34m)\u001b[0m\u001b[0;34m:\u001b[0m\u001b[0;34m\u001b[0m\u001b[0m\n\u001b[0;32m--> 779\u001b[0;31m         \u001b[0minputs\u001b[0m \u001b[0;34m=\u001b[0m \u001b[0mself\u001b[0m\u001b[0;34m.\u001b[0m\u001b[0mqueue\u001b[0m\u001b[0;34m.\u001b[0m\u001b[0mget\u001b[0m\u001b[0;34m(\u001b[0m\u001b[0mblock\u001b[0m\u001b[0;34m=\u001b[0m\u001b[0;32mTrue\u001b[0m\u001b[0;34m)\u001b[0m\u001b[0;34m.\u001b[0m\u001b[0mget\u001b[0m\u001b[0;34m(\u001b[0m\u001b[0;34m)\u001b[0m\u001b[0;34m\u001b[0m\u001b[0m\n\u001b[0m\u001b[1;32m    780\u001b[0m         \u001b[0mself\u001b[0m\u001b[0;34m.\u001b[0m\u001b[0mqueue\u001b[0m\u001b[0;34m.\u001b[0m\u001b[0mtask_done\u001b[0m\u001b[0;34m(\u001b[0m\u001b[0;34m)\u001b[0m\u001b[0;34m\u001b[0m\u001b[0m\n\u001b[1;32m    781\u001b[0m         \u001b[0;32mif\u001b[0m \u001b[0minputs\u001b[0m \u001b[0;32mis\u001b[0m \u001b[0;32mnot\u001b[0m \u001b[0;32mNone\u001b[0m\u001b[0;34m:\u001b[0m\u001b[0;34m\u001b[0m\u001b[0m\n",
      "\u001b[0;32m/usr/lib/python3.5/multiprocessing/pool.py\u001b[0m in \u001b[0;36mget\u001b[0;34m(self, timeout)\u001b[0m\n\u001b[1;32m    606\u001b[0m             \u001b[0;32mreturn\u001b[0m \u001b[0mself\u001b[0m\u001b[0;34m.\u001b[0m\u001b[0m_value\u001b[0m\u001b[0;34m\u001b[0m\u001b[0m\n\u001b[1;32m    607\u001b[0m         \u001b[0;32melse\u001b[0m\u001b[0;34m:\u001b[0m\u001b[0;34m\u001b[0m\u001b[0m\n\u001b[0;32m--> 608\u001b[0;31m             \u001b[0;32mraise\u001b[0m \u001b[0mself\u001b[0m\u001b[0;34m.\u001b[0m\u001b[0m_value\u001b[0m\u001b[0;34m\u001b[0m\u001b[0m\n\u001b[0m\u001b[1;32m    609\u001b[0m \u001b[0;34m\u001b[0m\u001b[0m\n\u001b[1;32m    610\u001b[0m     \u001b[0;32mdef\u001b[0m \u001b[0m_set\u001b[0m\u001b[0;34m(\u001b[0m\u001b[0mself\u001b[0m\u001b[0;34m,\u001b[0m \u001b[0mi\u001b[0m\u001b[0;34m,\u001b[0m \u001b[0mobj\u001b[0m\u001b[0;34m)\u001b[0m\u001b[0;34m:\u001b[0m\u001b[0;34m\u001b[0m\u001b[0m\n",
      "\u001b[0;31mValueError\u001b[0m: The length of the pixel data in the dataset (153710 bytes) doesn't match the expected length (524288 bytes). The dataset may be corrupted or there may be an issue with the pixel data handler."
     ]
    }
   ],
   "source": [
    "# run model\n",
    "\n",
    "history=model.fit_generator(\n",
    "    generator=traingen,\n",
    "    validation_data=validgen,\n",
    "    use_multiprocessing=True,\n",
    "    workers=11,\n",
    "    epochs=epochs)\n",
    "\n",
    "file_saving.save_model(\n",
    "    model, \n",
    "    return_df=True, \n",
    "    model_notes=model_notes,\n",
    "    loss = loss,\n",
    "    optimizer = optimizer,\n",
    "    dim = dim[0],\n",
    "    epochs = epochs,\n",
    "    train_size = len(traingen_data),\n",
    "    validation_size = len(validgen_data)\n",
    ").tail(3)"
   ]
  },
  {
   "cell_type": "markdown",
   "metadata": {},
   "source": [
    "## Visualize Model Effectiveness"
   ]
  },
  {
   "cell_type": "code",
   "execution_count": 132,
   "metadata": {},
   "outputs": [],
   "source": [
    "y_pred = model.predict_generator(generator=validgen,use_multiprocessing=True)"
   ]
  },
  {
   "cell_type": "code",
   "execution_count": 133,
   "metadata": {},
   "outputs": [
    {
     "data": {
      "image/png": "[encoded data removed]",
      "text/plain": [
       "<Figure size 432x288 with 2 Axes>"
      ]
     },
     "metadata": {
      "needs_background": "light"
     },
     "output_type": "display_data"
    }
   ],
   "source": [
    "model_support.get_confusion_matrix(valid_data['any'],y_pred)"
   ]
  },
  {
   "cell_type": "code",
   "execution_count": 134,
   "metadata": {},
   "outputs": [
    {
     "data": {
      "image/png": "[encoded data removed]",
      "text/plain": [
       "<Figure size 432x288 with 1 Axes>"
      ]
     },
     "metadata": {
      "needs_background": "light"
     },
     "output_type": "display_data"
    }
   ],
   "source": [
    "# plot accuracy\n",
    "\n",
    "plt.plot(history.history['accuracy'])\n",
    "# plt.plot(history.history['val_acc'])\n",
    "plt.title('Model accuracy')\n",
    "plt.ylabel('Accuracy')\n",
    "plt.xlabel('Epoch')\n",
    "plt.legend(['Train', 'Test'], loc='upper left')\n",
    "plt.savefig('models/latest_model_accuracy.png')\n",
    "plt.show()\n"
   ]
  },
  {
   "cell_type": "code",
   "execution_count": 135,
   "metadata": {},
   "outputs": [
    {
     "data": {
      "image/png": "[encoded data removed]",
      "text/plain": [
       "<Figure size 432x288 with 1 Axes>"
      ]
     },
     "metadata": {
      "needs_background": "light"
     },
     "output_type": "display_data"
    }
   ],
   "source": [
    "# plot loss\n",
    "\n",
    "plt.plot(history.history['loss'])\n",
    "plt.plot(history.history['val_loss'])\n",
    "plt.title('Model loss')\n",
    "plt.ylabel('Loss')\n",
    "plt.xlabel('Epoch')\n",
    "plt.legend(['Train', 'Test'], loc='upper left')\n",
    "plt.savefig('models/latest_model_loss.png')\n",
    "plt.show()"
   ]
  },
  {
   "cell_type": "code",
   "execution_count": null,
   "metadata": {},
   "outputs": [],
   "source": []
  },
  {
   "cell_type": "code",
   "execution_count": null,
   "metadata": {},
   "outputs": [],
   "source": []
  },
  {
   "cell_type": "code",
   "execution_count": null,
   "metadata": {},
   "outputs": [],
   "source": []
  },
  {
   "cell_type": "markdown",
   "metadata": {},
   "source": [
    "## Loading Previous Models"
   ]
  },
  {
   "cell_type": "code",
   "execution_count": null,
   "metadata": {},
   "outputs": [],
   "source": []
  },
  {
   "cell_type": "code",
   "execution_count": 18,
   "metadata": {},
   "outputs": [
    {
     "data": {
      "text/html": [
       "<div>\n",
       "<style scoped>\n",
       "    .dataframe tbody tr th:only-of-type {\n",
       "        vertical-align: middle;\n",
       "    }\n",
       "\n",
       "    .dataframe tbody tr th {\n",
       "        vertical-align: top;\n",
       "    }\n",
       "\n",
       "    .dataframe thead th {\n",
       "        text-align: right;\n",
       "    }\n",
       "</style>\n",
       "<table border=\"1\" class=\"dataframe\">\n",
       "  <thead>\n",
       "    <tr style=\"text-align: right;\">\n",
       "      <th></th>\n",
       "      <th>epochs</th>\n",
       "      <th>layers</th>\n",
       "      <th>model_name</th>\n",
       "      <th>model_notes</th>\n",
       "      <th>model_path</th>\n",
       "      <th>model_tags</th>\n",
       "      <th>num_layers</th>\n",
       "      <th>optimizer</th>\n",
       "      <th>score</th>\n",
       "      <th>timestamp</th>\n",
       "      <th>train_size</th>\n",
       "      <th>validation_size</th>\n",
       "    </tr>\n",
       "  </thead>\n",
       "  <tbody>\n",
       "    <tr>\n",
       "      <td>17</td>\n",
       "      <td>1</td>\n",
       "      <td>[]</td>\n",
       "      <td>2019-10-19T020705_model.h5</td>\n",
       "      <td>test</td>\n",
       "      <td>models/2019-10-19T020705_model.h5</td>\n",
       "      <td>{'keras', 'tensorflow'}</td>\n",
       "      <td>0</td>\n",
       "      <td>1</td>\n",
       "      <td>1</td>\n",
       "      <td>2019-10-19 02:07:05.253117</td>\n",
       "      <td>1</td>\n",
       "      <td>1</td>\n",
       "    </tr>\n",
       "    <tr>\n",
       "      <td>18</td>\n",
       "      <td>1</td>\n",
       "      <td>[]</td>\n",
       "      <td>2019-10-19T071459_model.h5</td>\n",
       "      <td>test, binary, 512</td>\n",
       "      <td>models/2019-10-19T071459_model.h5</td>\n",
       "      <td>{'keras', 'tensorflow'}</td>\n",
       "      <td>0</td>\n",
       "      <td>1</td>\n",
       "      <td>1</td>\n",
       "      <td>2019-10-19 07:14:59.072233</td>\n",
       "      <td>1</td>\n",
       "      <td>1</td>\n",
       "    </tr>\n",
       "    <tr>\n",
       "      <td>19</td>\n",
       "      <td>1</td>\n",
       "      <td>[]</td>\n",
       "      <td>2019-10-19T071537_model.h5</td>\n",
       "      <td>test, binary, 512</td>\n",
       "      <td>models/2019-10-19T071537_model.h5</td>\n",
       "      <td>{'keras', 'tensorflow'}</td>\n",
       "      <td>0</td>\n",
       "      <td>1</td>\n",
       "      <td>1</td>\n",
       "      <td>2019-10-19 07:15:37.685693</td>\n",
       "      <td>1</td>\n",
       "      <td>1</td>\n",
       "    </tr>\n",
       "    <tr>\n",
       "      <td>20</td>\n",
       "      <td>1</td>\n",
       "      <td>[]</td>\n",
       "      <td>2019-10-19T074255_model.h5</td>\n",
       "      <td>test, binary, 512</td>\n",
       "      <td>models/2019-10-19T074255_model.h5</td>\n",
       "      <td>{'keras', 'tensorflow'}</td>\n",
       "      <td>0</td>\n",
       "      <td>1</td>\n",
       "      <td>1</td>\n",
       "      <td>2019-10-19 07:42:55.813587</td>\n",
       "      <td>1</td>\n",
       "      <td>1</td>\n",
       "    </tr>\n",
       "    <tr>\n",
       "      <td>21</td>\n",
       "      <td>1</td>\n",
       "      <td>[]</td>\n",
       "      <td>2019-10-21T012256_model.h5</td>\n",
       "      <td>test, binary, 512</td>\n",
       "      <td>models/2019-10-21T012256_model.h5</td>\n",
       "      <td>{'keras', 'tensorflow'}</td>\n",
       "      <td>0</td>\n",
       "      <td>1</td>\n",
       "      <td>1</td>\n",
       "      <td>2019-10-21 01:22:56.730828</td>\n",
       "      <td>1</td>\n",
       "      <td>1</td>\n",
       "    </tr>\n",
       "    <tr>\n",
       "      <td>22</td>\n",
       "      <td>1</td>\n",
       "      <td>[]</td>\n",
       "      <td>2019-10-21T012507_model.h5</td>\n",
       "      <td>test, binary, 512</td>\n",
       "      <td>models/2019-10-21T012507_model.h5</td>\n",
       "      <td>{'keras', 'tensorflow'}</td>\n",
       "      <td>0</td>\n",
       "      <td>1</td>\n",
       "      <td>1</td>\n",
       "      <td>2019-10-21 01:25:07.216196</td>\n",
       "      <td>1</td>\n",
       "      <td>1</td>\n",
       "    </tr>\n",
       "    <tr>\n",
       "      <td>23</td>\n",
       "      <td>1</td>\n",
       "      <td>[]</td>\n",
       "      <td>2019-10-21T013017_model.h5</td>\n",
       "      <td>test, binary, 512</td>\n",
       "      <td>models/2019-10-21T013017_model.h5</td>\n",
       "      <td>{'keras', 'tensorflow'}</td>\n",
       "      <td>0</td>\n",
       "      <td>1</td>\n",
       "      <td>1</td>\n",
       "      <td>2019-10-21 01:30:17.505741</td>\n",
       "      <td>1</td>\n",
       "      <td>1</td>\n",
       "    </tr>\n",
       "    <tr>\n",
       "      <td>24</td>\n",
       "      <td>1</td>\n",
       "      <td>[]</td>\n",
       "      <td>2019-10-21T013140_model.h5</td>\n",
       "      <td>test, binary, 512</td>\n",
       "      <td>models/2019-10-21T013140_model.h5</td>\n",
       "      <td>{'keras', 'tensorflow'}</td>\n",
       "      <td>0</td>\n",
       "      <td>1</td>\n",
       "      <td>1</td>\n",
       "      <td>2019-10-21 01:31:40.354051</td>\n",
       "      <td>1</td>\n",
       "      <td>1</td>\n",
       "    </tr>\n",
       "    <tr>\n",
       "      <td>25</td>\n",
       "      <td>1</td>\n",
       "      <td>[]</td>\n",
       "      <td>2019-10-21T033555_model.h5</td>\n",
       "      <td>165k train images, balanced across any and non...</td>\n",
       "      <td>models/2019-10-21T033555_model.h5</td>\n",
       "      <td>{'keras', 'tensorflow'}</td>\n",
       "      <td>0</td>\n",
       "      <td>1</td>\n",
       "      <td>1</td>\n",
       "      <td>2019-10-21 03:35:55.310261</td>\n",
       "      <td>1</td>\n",
       "      <td>1</td>\n",
       "    </tr>\n",
       "    <tr>\n",
       "      <td>26</td>\n",
       "      <td>1</td>\n",
       "      <td>[]</td>\n",
       "      <td>2019-10-21T051800_model.h5</td>\n",
       "      <td>165k train images, balanced across any and non...</td>\n",
       "      <td>models/2019-10-21T051800_model.h5</td>\n",
       "      <td>{'keras', 'tensorflow'}</td>\n",
       "      <td>0</td>\n",
       "      <td>1</td>\n",
       "      <td>1</td>\n",
       "      <td>2019-10-21 05:18:00.485887</td>\n",
       "      <td>1</td>\n",
       "      <td>1</td>\n",
       "    </tr>\n",
       "  </tbody>\n",
       "</table>\n",
       "</div>"
      ],
      "text/plain": [
       "    epochs layers                  model_name  \\\n",
       "17       1     []  2019-10-19T020705_model.h5   \n",
       "18       1     []  2019-10-19T071459_model.h5   \n",
       "19       1     []  2019-10-19T071537_model.h5   \n",
       "20       1     []  2019-10-19T074255_model.h5   \n",
       "21       1     []  2019-10-21T012256_model.h5   \n",
       "22       1     []  2019-10-21T012507_model.h5   \n",
       "23       1     []  2019-10-21T013017_model.h5   \n",
       "24       1     []  2019-10-21T013140_model.h5   \n",
       "25       1     []  2019-10-21T033555_model.h5   \n",
       "26       1     []  2019-10-21T051800_model.h5   \n",
       "\n",
       "                                          model_notes  \\\n",
       "17                                               test   \n",
       "18                                  test, binary, 512   \n",
       "19                                  test, binary, 512   \n",
       "20                                  test, binary, 512   \n",
       "21                                  test, binary, 512   \n",
       "22                                  test, binary, 512   \n",
       "23                                  test, binary, 512   \n",
       "24                                  test, binary, 512   \n",
       "25  165k train images, balanced across any and non...   \n",
       "26  165k train images, balanced across any and non...   \n",
       "\n",
       "                           model_path               model_tags  num_layers  \\\n",
       "17  models/2019-10-19T020705_model.h5  {'keras', 'tensorflow'}           0   \n",
       "18  models/2019-10-19T071459_model.h5  {'keras', 'tensorflow'}           0   \n",
       "19  models/2019-10-19T071537_model.h5  {'keras', 'tensorflow'}           0   \n",
       "20  models/2019-10-19T074255_model.h5  {'keras', 'tensorflow'}           0   \n",
       "21  models/2019-10-21T012256_model.h5  {'keras', 'tensorflow'}           0   \n",
       "22  models/2019-10-21T012507_model.h5  {'keras', 'tensorflow'}           0   \n",
       "23  models/2019-10-21T013017_model.h5  {'keras', 'tensorflow'}           0   \n",
       "24  models/2019-10-21T013140_model.h5  {'keras', 'tensorflow'}           0   \n",
       "25  models/2019-10-21T033555_model.h5  {'keras', 'tensorflow'}           0   \n",
       "26  models/2019-10-21T051800_model.h5  {'keras', 'tensorflow'}           0   \n",
       "\n",
       "    optimizer  score                   timestamp  train_size  validation_size  \n",
       "17          1      1  2019-10-19 02:07:05.253117           1                1  \n",
       "18          1      1  2019-10-19 07:14:59.072233           1                1  \n",
       "19          1      1  2019-10-19 07:15:37.685693           1                1  \n",
       "20          1      1  2019-10-19 07:42:55.813587           1                1  \n",
       "21          1      1  2019-10-21 01:22:56.730828           1                1  \n",
       "22          1      1  2019-10-21 01:25:07.216196           1                1  \n",
       "23          1      1  2019-10-21 01:30:17.505741           1                1  \n",
       "24          1      1  2019-10-21 01:31:40.354051           1                1  \n",
       "25          1      1  2019-10-21 03:35:55.310261           1                1  \n",
       "26          1      1  2019-10-21 05:18:00.485887           1                1  "
      ]
     },
     "execution_count": 18,
     "metadata": {},
     "output_type": "execute_result"
    }
   ],
   "source": [
    "# See df of most recent records\n",
    "records = file_saving.load_model(records_output = True, model_output = False)\n",
    "last_record = list(records.model_path)[-1]\n",
    "records.tail(10)"
   ]
  },
  {
   "cell_type": "code",
   "execution_count": 19,
   "metadata": {},
   "outputs": [],
   "source": [
    "# load_model last model\n",
    "_, loaded_model = file_saving.load_model(records_output = True, model_output = True, model_file_path = last_record)\n"
   ]
  },
  {
   "cell_type": "code",
   "execution_count": 29,
   "metadata": {},
   "outputs": [],
   "source": [
    "y_pred = loaded_model.predict_generator(generator=validgen,use_multiprocessing=True)"
   ]
  },
  {
   "cell_type": "code",
   "execution_count": 30,
   "metadata": {},
   "outputs": [
    {
     "data": {
      "image/png": "[encoded data removed]",
      "text/plain": [
       "<Figure size 432x288 with 2 Axes>"
      ]
     },
     "metadata": {
      "needs_background": "light"
     },
     "output_type": "display_data"
    }
   ],
   "source": [
    "model_support.get_confusion_matrix(valid_data['any'],y_pred)"
   ]
  },
  {
   "cell_type": "code",
   "execution_count": 43,
   "metadata": {},
   "outputs": [],
   "source": [
    "# load_model last model\n",
    "_, loaded_model = file_saving.load_model(records_output = True, model_output = True, model_file_path = last_record)\n",
    "y_pred = loaded_model.predict_generator(generator=validgen,use_multiprocessing=True)"
   ]
  },
  {
   "cell_type": "code",
   "execution_count": 44,
   "metadata": {},
   "outputs": [
    {
     "data": {
      "image/png": "[encoded data removed]",
      "text/plain": [
       "<Figure size 432x288 with 2 Axes>"
      ]
     },
     "metadata": {
      "needs_background": "light"
     },
     "output_type": "display_data"
    }
   ],
   "source": [
    "model_support.get_confusion_matrix(valid_data['any'],y_pred)"
   ]
  },
  {
   "cell_type": "code",
   "execution_count": 131,
   "metadata": {},
   "outputs": [],
   "source": []
  },
  {
   "cell_type": "code",
   "execution_count": null,
   "metadata": {},
   "outputs": [],
   "source": []
  },
  {
   "cell_type": "markdown",
   "metadata": {},
   "source": [
    "# TESTING"
   ]
  },
  {
   "cell_type": "markdown",
   "metadata": {},
   "source": [
    "#### Saving and loading models"
   ]
  },
  {
   "cell_type": "code",
   "execution_count": 58,
   "metadata": {},
   "outputs": [],
   "source": [
    "# barebones function to save. Used for testing the save functions\n",
    "\n",
    "model_path = 'models/2019-10-13T224638_model.h5'\n",
    "# keras.models.save_model(model, model_path)\n",
    "loaded_model = tf.keras.models.load_model(model_path)\n"
   ]
  },
  {
   "cell_type": "code",
   "execution_count": 318,
   "metadata": {},
   "outputs": [
    {
     "name": "stdout",
     "output_type": "stream",
     "text": [
      "worked-1\n",
      "worked-2\n"
     ]
    },
    {
     "data": {
      "text/html": [
       "<div>\n",
       "<style scoped>\n",
       "    .dataframe tbody tr th:only-of-type {\n",
       "        vertical-align: middle;\n",
       "    }\n",
       "\n",
       "    .dataframe tbody tr th {\n",
       "        vertical-align: top;\n",
       "    }\n",
       "\n",
       "    .dataframe thead th {\n",
       "        text-align: right;\n",
       "    }\n",
       "</style>\n",
       "<table border=\"1\" class=\"dataframe\">\n",
       "  <thead>\n",
       "    <tr style=\"text-align: right;\">\n",
       "      <th></th>\n",
       "      <th>epochs</th>\n",
       "      <th>layers</th>\n",
       "      <th>model_name</th>\n",
       "      <th>model_notes</th>\n",
       "      <th>model_path</th>\n",
       "      <th>model_tags</th>\n",
       "      <th>num_layers</th>\n",
       "      <th>optimizer</th>\n",
       "      <th>score</th>\n",
       "      <th>timestamp</th>\n",
       "      <th>train_size</th>\n",
       "      <th>validation_size</th>\n",
       "    </tr>\n",
       "  </thead>\n",
       "  <tbody>\n",
       "    <tr>\n",
       "      <td>0</td>\n",
       "      <td>1</td>\n",
       "      <td>[]</td>\n",
       "      <td>2019-10-10T211053_model.h5</td>\n",
       "      <td>NaN</td>\n",
       "      <td>models/2019-10-10T211053_model.h5</td>\n",
       "      <td>{'keras', 'tensorflow'}</td>\n",
       "      <td>0</td>\n",
       "      <td>1</td>\n",
       "      <td>1</td>\n",
       "      <td>2019-10-10 21:10:53.796514</td>\n",
       "      <td>1</td>\n",
       "      <td>1</td>\n",
       "    </tr>\n",
       "    <tr>\n",
       "      <td>1</td>\n",
       "      <td>1</td>\n",
       "      <td>[]</td>\n",
       "      <td>2019-10-10T211056_model.h5</td>\n",
       "      <td>NaN</td>\n",
       "      <td>models/2019-10-10T211056_model.h5</td>\n",
       "      <td>{'keras', 'tensorflow'}</td>\n",
       "      <td>0</td>\n",
       "      <td>1</td>\n",
       "      <td>1</td>\n",
       "      <td>2019-10-10 21:10:56.404866</td>\n",
       "      <td>1</td>\n",
       "      <td>1</td>\n",
       "    </tr>\n",
       "    <tr>\n",
       "      <td>2</td>\n",
       "      <td>1</td>\n",
       "      <td>[]</td>\n",
       "      <td>2019-10-10T211112_model.h5</td>\n",
       "      <td>hello</td>\n",
       "      <td>models/2019-10-10T211112_model.h5</td>\n",
       "      <td>{'keras', 'tensorflow'}</td>\n",
       "      <td>0</td>\n",
       "      <td>1</td>\n",
       "      <td>1</td>\n",
       "      <td>2019-10-10 21:11:12.708478</td>\n",
       "      <td>1</td>\n",
       "      <td>1</td>\n",
       "    </tr>\n",
       "    <tr>\n",
       "      <td>3</td>\n",
       "      <td>1</td>\n",
       "      <td>[]</td>\n",
       "      <td>2019-10-10T211115_model.h5</td>\n",
       "      <td>hello</td>\n",
       "      <td>models/2019-10-10T211115_model.h5</td>\n",
       "      <td>{'keras', 'tensorflow'}</td>\n",
       "      <td>0</td>\n",
       "      <td>1</td>\n",
       "      <td>1</td>\n",
       "      <td>2019-10-10 21:11:15.211067</td>\n",
       "      <td>1</td>\n",
       "      <td>1</td>\n",
       "    </tr>\n",
       "    <tr>\n",
       "      <td>4</td>\n",
       "      <td>1</td>\n",
       "      <td>[]</td>\n",
       "      <td>2019-10-10T211116_model.h5</td>\n",
       "      <td>hello</td>\n",
       "      <td>models/2019-10-10T211116_model.h5</td>\n",
       "      <td>{'keras', 'tensorflow'}</td>\n",
       "      <td>0</td>\n",
       "      <td>1</td>\n",
       "      <td>1</td>\n",
       "      <td>2019-10-10 21:11:16.248314</td>\n",
       "      <td>1</td>\n",
       "      <td>1</td>\n",
       "    </tr>\n",
       "    <tr>\n",
       "      <td>5</td>\n",
       "      <td>1</td>\n",
       "      <td>[]</td>\n",
       "      <td>2019-10-10T211129_model.h5</td>\n",
       "      <td>hello</td>\n",
       "      <td>models/2019-10-10T211129_model.h5</td>\n",
       "      <td>{keras, tensorflow}</td>\n",
       "      <td>0</td>\n",
       "      <td>1</td>\n",
       "      <td>1</td>\n",
       "      <td>2019-10-10 21:11:29.360498</td>\n",
       "      <td>1</td>\n",
       "      <td>1</td>\n",
       "    </tr>\n",
       "  </tbody>\n",
       "</table>\n",
       "</div>"
      ],
      "text/plain": [
       "   epochs layers                  model_name model_notes  \\\n",
       "0       1     []  2019-10-10T211053_model.h5         NaN   \n",
       "1       1     []  2019-10-10T211056_model.h5         NaN   \n",
       "2       1     []  2019-10-10T211112_model.h5       hello   \n",
       "3       1     []  2019-10-10T211115_model.h5       hello   \n",
       "4       1     []  2019-10-10T211116_model.h5       hello   \n",
       "5       1     []  2019-10-10T211129_model.h5       hello   \n",
       "\n",
       "                          model_path               model_tags  num_layers  \\\n",
       "0  models/2019-10-10T211053_model.h5  {'keras', 'tensorflow'}           0   \n",
       "1  models/2019-10-10T211056_model.h5  {'keras', 'tensorflow'}           0   \n",
       "2  models/2019-10-10T211112_model.h5  {'keras', 'tensorflow'}           0   \n",
       "3  models/2019-10-10T211115_model.h5  {'keras', 'tensorflow'}           0   \n",
       "4  models/2019-10-10T211116_model.h5  {'keras', 'tensorflow'}           0   \n",
       "5  models/2019-10-10T211129_model.h5      {keras, tensorflow}           0   \n",
       "\n",
       "   optimizer  score                   timestamp  train_size  validation_size  \n",
       "0          1      1  2019-10-10 21:10:53.796514           1                1  \n",
       "1          1      1  2019-10-10 21:10:56.404866           1                1  \n",
       "2          1      1  2019-10-10 21:11:12.708478           1                1  \n",
       "3          1      1  2019-10-10 21:11:15.211067           1                1  \n",
       "4          1      1  2019-10-10 21:11:16.248314           1                1  \n",
       "5          1      1  2019-10-10 21:11:29.360498           1                1  "
      ]
     },
     "execution_count": 318,
     "metadata": {},
     "output_type": "execute_result"
    }
   ],
   "source": [
    "# test = save_model(model, model_tags = [],return_df=True, model_notes=\"hello\")\n",
    "# test"
   ]
  },
  {
   "cell_type": "code",
   "execution_count": 286,
   "metadata": {},
   "outputs": [
    {
     "data": {
      "text/html": [
       "<div>\n",
       "<style scoped>\n",
       "    .dataframe tbody tr th:only-of-type {\n",
       "        vertical-align: middle;\n",
       "    }\n",
       "\n",
       "    .dataframe tbody tr th {\n",
       "        vertical-align: top;\n",
       "    }\n",
       "\n",
       "    .dataframe thead th {\n",
       "        text-align: right;\n",
       "    }\n",
       "</style>\n",
       "<table border=\"1\" class=\"dataframe\">\n",
       "  <thead>\n",
       "    <tr style=\"text-align: right;\">\n",
       "      <th></th>\n",
       "      <th>epochs</th>\n",
       "      <th>layers</th>\n",
       "      <th>model_name</th>\n",
       "      <th>model_path</th>\n",
       "      <th>model_tags</th>\n",
       "      <th>num_layers</th>\n",
       "      <th>optimizer</th>\n",
       "      <th>score</th>\n",
       "      <th>timestamp</th>\n",
       "      <th>train_size</th>\n",
       "      <th>validation_size</th>\n",
       "    </tr>\n",
       "  </thead>\n",
       "  <tbody>\n",
       "    <tr>\n",
       "      <td>0</td>\n",
       "      <td>1</td>\n",
       "      <td>[]</td>\n",
       "      <td>2019-10-10T202614_model.h5</td>\n",
       "      <td>models/2019-10-10T202614_model.h5</td>\n",
       "      <td>{'keras', 'tensorflow'}</td>\n",
       "      <td>0</td>\n",
       "      <td>1</td>\n",
       "      <td>1</td>\n",
       "      <td>2019-10-10 20:26:14.109413</td>\n",
       "      <td>1</td>\n",
       "      <td>1</td>\n",
       "    </tr>\n",
       "    <tr>\n",
       "      <td>1</td>\n",
       "      <td>1</td>\n",
       "      <td>[]</td>\n",
       "      <td>2019-10-10T202617_model.h5</td>\n",
       "      <td>models/2019-10-10T202617_model.h5</td>\n",
       "      <td>{'keras', 'tensorflow'}</td>\n",
       "      <td>0</td>\n",
       "      <td>1</td>\n",
       "      <td>1</td>\n",
       "      <td>2019-10-10 20:26:17.506235</td>\n",
       "      <td>1</td>\n",
       "      <td>1</td>\n",
       "    </tr>\n",
       "    <tr>\n",
       "      <td>2</td>\n",
       "      <td>1</td>\n",
       "      <td>[]</td>\n",
       "      <td>2019-10-10T202618_model.h5</td>\n",
       "      <td>models/2019-10-10T202618_model.h5</td>\n",
       "      <td>{'keras', 'tensorflow'}</td>\n",
       "      <td>0</td>\n",
       "      <td>1</td>\n",
       "      <td>1</td>\n",
       "      <td>2019-10-10 20:26:18.759291</td>\n",
       "      <td>1</td>\n",
       "      <td>1</td>\n",
       "    </tr>\n",
       "    <tr>\n",
       "      <td>3</td>\n",
       "      <td>1</td>\n",
       "      <td>[]</td>\n",
       "      <td>2019-10-10T202619_model.h5</td>\n",
       "      <td>models/2019-10-10T202619_model.h5</td>\n",
       "      <td>{'keras', 'tensorflow'}</td>\n",
       "      <td>0</td>\n",
       "      <td>1</td>\n",
       "      <td>1</td>\n",
       "      <td>2019-10-10 20:26:19.641559</td>\n",
       "      <td>1</td>\n",
       "      <td>1</td>\n",
       "    </tr>\n",
       "    <tr>\n",
       "      <td>4</td>\n",
       "      <td>1</td>\n",
       "      <td>[]</td>\n",
       "      <td>2019-10-10T202620_model.h5</td>\n",
       "      <td>models/2019-10-10T202620_model.h5</td>\n",
       "      <td>{'keras', 'tensorflow'}</td>\n",
       "      <td>0</td>\n",
       "      <td>1</td>\n",
       "      <td>1</td>\n",
       "      <td>2019-10-10 20:26:20.819121</td>\n",
       "      <td>1</td>\n",
       "      <td>1</td>\n",
       "    </tr>\n",
       "    <tr>\n",
       "      <td>5</td>\n",
       "      <td>1</td>\n",
       "      <td>[]</td>\n",
       "      <td>2019-10-10T202621_model.h5</td>\n",
       "      <td>models/2019-10-10T202621_model.h5</td>\n",
       "      <td>{'keras', 'tensorflow'}</td>\n",
       "      <td>0</td>\n",
       "      <td>1</td>\n",
       "      <td>1</td>\n",
       "      <td>2019-10-10 20:26:21.808913</td>\n",
       "      <td>1</td>\n",
       "      <td>1</td>\n",
       "    </tr>\n",
       "    <tr>\n",
       "      <td>6</td>\n",
       "      <td>1</td>\n",
       "      <td>[]</td>\n",
       "      <td>2019-10-10T202622_model.h5</td>\n",
       "      <td>models/2019-10-10T202622_model.h5</td>\n",
       "      <td>{'keras', 'tensorflow'}</td>\n",
       "      <td>0</td>\n",
       "      <td>1</td>\n",
       "      <td>1</td>\n",
       "      <td>2019-10-10 20:26:22.799794</td>\n",
       "      <td>1</td>\n",
       "      <td>1</td>\n",
       "    </tr>\n",
       "    <tr>\n",
       "      <td>7</td>\n",
       "      <td>1</td>\n",
       "      <td>[]</td>\n",
       "      <td>2019-10-10T202627_model.h5</td>\n",
       "      <td>models/2019-10-10T202627_model.h5</td>\n",
       "      <td>{'keras', 'tensorflow'}</td>\n",
       "      <td>0</td>\n",
       "      <td>1</td>\n",
       "      <td>1</td>\n",
       "      <td>2019-10-10 20:26:27.330631</td>\n",
       "      <td>1</td>\n",
       "      <td>1</td>\n",
       "    </tr>\n",
       "  </tbody>\n",
       "</table>\n",
       "</div>"
      ],
      "text/plain": [
       "   epochs layers                  model_name  \\\n",
       "0       1     []  2019-10-10T202614_model.h5   \n",
       "1       1     []  2019-10-10T202617_model.h5   \n",
       "2       1     []  2019-10-10T202618_model.h5   \n",
       "3       1     []  2019-10-10T202619_model.h5   \n",
       "4       1     []  2019-10-10T202620_model.h5   \n",
       "5       1     []  2019-10-10T202621_model.h5   \n",
       "6       1     []  2019-10-10T202622_model.h5   \n",
       "7       1     []  2019-10-10T202627_model.h5   \n",
       "\n",
       "                          model_path               model_tags  num_layers  \\\n",
       "0  models/2019-10-10T202614_model.h5  {'keras', 'tensorflow'}           0   \n",
       "1  models/2019-10-10T202617_model.h5  {'keras', 'tensorflow'}           0   \n",
       "2  models/2019-10-10T202618_model.h5  {'keras', 'tensorflow'}           0   \n",
       "3  models/2019-10-10T202619_model.h5  {'keras', 'tensorflow'}           0   \n",
       "4  models/2019-10-10T202620_model.h5  {'keras', 'tensorflow'}           0   \n",
       "5  models/2019-10-10T202621_model.h5  {'keras', 'tensorflow'}           0   \n",
       "6  models/2019-10-10T202622_model.h5  {'keras', 'tensorflow'}           0   \n",
       "7  models/2019-10-10T202627_model.h5  {'keras', 'tensorflow'}           0   \n",
       "\n",
       "   optimizer  score                   timestamp  train_size  validation_size  \n",
       "0          1      1  2019-10-10 20:26:14.109413           1                1  \n",
       "1          1      1  2019-10-10 20:26:17.506235           1                1  \n",
       "2          1      1  2019-10-10 20:26:18.759291           1                1  \n",
       "3          1      1  2019-10-10 20:26:19.641559           1                1  \n",
       "4          1      1  2019-10-10 20:26:20.819121           1                1  \n",
       "5          1      1  2019-10-10 20:26:21.808913           1                1  \n",
       "6          1      1  2019-10-10 20:26:22.799794           1                1  \n",
       "7          1      1  2019-10-10 20:26:27.330631           1                1  "
      ]
     },
     "execution_count": 286,
     "metadata": {},
     "output_type": "execute_result"
    }
   ],
   "source": [
    "# root = 'models/'\n",
    "# save_as_type = 'h5' # can choose 'h5' or 'tf'\n",
    "# model_records_path = root+'model_records.csv'\n",
    "\n",
    "# df = pd.read_csv(model_records_path)\n",
    "# df"
   ]
  },
  {
   "cell_type": "code",
   "execution_count": 32,
   "metadata": {},
   "outputs": [],
   "source": [
    "# Load model, if starting from a pre-made model\n",
    "# root = 'models/'\n",
    "# records_df, model = load_model(model_file_path=\"models/2019-10-11T004440_model.h5\", model_output=True)\n",
    "\n",
    "# from keras.initializers import glorot_uniform\n",
    "\n",
    "# from keras.models import load_model\n",
    "# from keras.utils import CustomObjectScope\n",
    "# from keras.initializers import glorot_uniform\n",
    "# with CustomObjectScope({'GlorotUniform': glorot_uniform()}):\n",
    "#         loaded_model = keras.models.load_model('models/2019-10-11T004440_model.h5')\n",
    "\n",
    "# model = keras.models.load_model('models/2019-10-11T004440_model.h5',custom_objects={\"GlorotUniform\": keras.initializers.glorot_uniform})\n",
    "\n",
    "# custom_objects={\"GlorotUniform\": tf.keras.initializers.glorot_uniform}\n",
    "\n",
    "# from keras.models import load_model\n",
    "# from keras.utils import CustomObjectScope\n",
    "\n",
    "# with CustomObjectScope({'GlorotUniform': glorot_uniform()}):\n",
    "\n",
    "#         model = load_model('imdb_mlp_model.h5')\n",
    "\n",
    "# root = 'models/'\n",
    "\n",
    "# save_as_type = 'h5' # can choose 'h5' or 'tf'\n",
    "# model_records_path = root+'model_records.csv'\n",
    "\n",
    "# df = pd.read_csv(model_records_path)\n",
    "# df\n"
   ]
  },
  {
   "cell_type": "markdown",
   "metadata": {},
   "source": [
    "#### Time"
   ]
  },
  {
   "cell_type": "code",
   "execution_count": 112,
   "metadata": {},
   "outputs": [],
   "source": [
    "import time\n",
    "# import datetime\n",
    "from datetime import datetime"
   ]
  },
  {
   "cell_type": "code",
   "execution_count": 194,
   "metadata": {},
   "outputs": [
    {
     "data": {
      "text/plain": [
       "'2019-10-10T195147'"
      ]
     },
     "execution_count": 194,
     "metadata": {},
     "output_type": "execute_result"
    }
   ],
   "source": [
    "# d = date.today()\n",
    "from datetime import datetime\n",
    "d = datetime.utcnow()\n",
    "d.isoformat()\n",
    "d.strftime(\"%Y-%m-%dT%H%M%S\")"
   ]
  },
  {
   "cell_type": "code",
   "execution_count": null,
   "metadata": {},
   "outputs": [],
   "source": []
  },
  {
   "cell_type": "code",
   "execution_count": null,
   "metadata": {},
   "outputs": [],
   "source": []
  },
  {
   "cell_type": "code",
   "execution_count": null,
   "metadata": {},
   "outputs": [],
   "source": []
  },
  {
   "cell_type": "code",
   "execution_count": null,
   "metadata": {},
   "outputs": [],
   "source": []
  },
  {
   "cell_type": "code",
   "execution_count": null,
   "metadata": {},
   "outputs": [],
   "source": []
  }
 ],
 "metadata": {
  "kernelspec": {
   "display_name": "Python 3",
   "language": "python",
   "name": "python3"
  },
  "language_info": {
   "codemirror_mode": {
    "name": "ipython",
    "version": 3
   },
   "file_extension": ".py",
   "mimetype": "text/x-python",
   "name": "python",
   "nbconvert_exporter": "python",
   "pygments_lexer": "ipython3",
   "version": "3.5.3"
  }
 },
 "nbformat": 4,
 "nbformat_minor": 4
}
