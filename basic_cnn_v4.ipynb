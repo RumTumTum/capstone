{
 "cells": [
  {
   "cell_type": "markdown",
   "metadata": {},
   "source": [
    "What to achieve:\n",
    "Model improvements\n",
    "- Custom loss function\n",
    "- Add the VGG16 or Densenet50\n",
    "- Add additional windows\n",
    "\n",
    "Bug - seems to be fixed for now\n",
    " - May be able to fix using the dcm metadata:\n",
    " https://www.kaggle.com/schlerp/getting-to-know-dicom-and-the-data\n",
    "``` if 'PixelData' in dataset:\n",
    "        rows = int(dataset.Rows)\n",
    "        cols = int(dataset.Columns)\n",
    "        print(\"Image size.......: {rows:d} x {cols:d}, {size:d} bytes\".format(\n",
    "            rows=rows, cols=cols, size=len(dataset.PixelData)))\n",
    "        if 'PixelSpacing' in dataset:\n",
    "            print(\"Pixel spacing....:\", dataset.PixelSpacing)```\n",
    "     \n",
    " - May be because there is a class with less than 128\n",
    "      - just 5 of each - validation and other\n",
    "      - just 128 of each - validation and other\n",
    "      - a train with only 128 and the same validation that we have now\n",
    "      - Same train that we have now except stopping at a multiple of 128\n",
    " - May be in the validation data\n",
    "      - a train with only 128 and the same validation that we have now\n",
    " - Try\n",
    "\n",
    "Solution\n",
    "    - One issue seems to be in validation\n",
    "     - tried traingen w/ 128 and validgen with 128. Got an error regarding shape not being an attribute of DataGenerator_single_class\n",
    "     - tried the same thing without validation data and didn't get any issue.\n",
    "     - therefor at least one problem is with the validation data step\n",
    "\n",
    "    - One option is to skip the validation step\n",
    "\n",
    "    - Currently just running everything as normal except using test and valid data equal to multiples of batch_size"
   ]
  },
  {
   "cell_type": "code",
   "execution_count": 1,
   "metadata": {},
   "outputs": [
    {
     "name": "stderr",
     "output_type": "stream",
     "text": [
      "Using TensorFlow backend.\n"
     ]
    },
    {
     "name": "stdout",
     "output_type": "stream",
     "text": [
      "Python:  3.5.3 \n",
      "Keras:  2.3.0\n",
      "Tensorflow:  2.0.0\n",
      "GPU Available:  True\n",
      "Num GPUs Available:  1\n",
      "\n",
      "All devices:\n",
      "PhysicalDevice(name='/physical_device:CPU:0', device_type='CPU')\n",
      "PhysicalDevice(name='/physical_device:XLA_CPU:0', device_type='XLA_CPU')\n",
      "PhysicalDevice(name='/physical_device:XLA_GPU:0', device_type='XLA_GPU')\n",
      "PhysicalDevice(name='/physical_device:GPU:0', device_type='GPU')\n"
     ]
    }
   ],
   "source": [
    "# Checking GPU availability\n",
    "from __future__ import absolute_import, division, print_function, unicode_literals #to check for gpu\n",
    "\n",
    "# %load_ext autoreload\n",
    "# %autoreload 2\n",
    "\n",
    "# Custom libraries\n",
    "from custom_libraries import file_saving\n",
    "from custom_libraries import image_processing\n",
    "from custom_libraries import import_data\n",
    "from custom_libraries import model_support\n",
    "\n",
    "# Standard libraries\n",
    "import numpy as np\n",
    "import pandas as pd\n",
    "import matplotlib.pyplot as plt\n",
    "import seaborn as sns\n",
    "%matplotlib inline\n",
    "\n",
    "# Images\n",
    "import pydicom\n",
    "import cv2\n",
    "\n",
    "# Batching for DataGenerator\n",
    "from tensorflow.python.keras.utils.data_utils import Sequence\n",
    "\n",
    "# Keras, Tensorflow and other model related\n",
    "import tensorflow as tf\n",
    "import keras\n",
    "from tensorflow.keras.models import Sequential\n",
    "from tensorflow.keras.layers import Dense, Dropout, Activation, Flatten\n",
    "from tensorflow.keras.layers import Conv2D, MaxPooling2D\n",
    "from sklearn.metrics import confusion_matrix\n",
    "from sklearn.utils import shuffle\n",
    "from sklearn.model_selection import train_test_split\n",
    "\n",
    "# Checking devices and system settings\n",
    "import sys\n",
    "print(\"Python: \", sys.version[:6])\n",
    "print(\"Keras: \",keras.__version__)\n",
    "print(\"Tensorflow: \",tf.__version__)\n",
    "print(\"GPU Available: \",tf.test.is_gpu_available())\n",
    "print(\"Num GPUs Available: \", len(tf.config.experimental.list_physical_devices('GPU')))\n",
    "print(\"\\nAll devices:\", *tf.config.experimental.list_physical_devices(),sep=\"\\n\")\n",
    "gpu_count = len(tf.config.experimental.list_physical_devices('GPU'))\n",
    "\n",
    "# saving to cloud storage\n",
    "from google.cloud import storage\n",
    "from custom_libraries import gcloud_storage\n"
   ]
  },
  {
   "cell_type": "code",
   "execution_count": 2,
   "metadata": {},
   "outputs": [],
   "source": [
    "# Set global variables\n",
    "batch_size=128\n",
    "dim=(512,512)\n",
    "data_path = \"../data/\"   # used when calling DataGenerator\n",
    "random_seed = 12345\n"
   ]
  },
  {
   "cell_type": "markdown",
   "metadata": {},
   "source": [
    "## Import Data and Create Data Generator"
   ]
  },
  {
   "cell_type": "code",
   "execution_count": 3,
   "metadata": {},
   "outputs": [],
   "source": [
    "# get df of image paths and labels\n",
    "image_list = import_data.clean_data_csv(shuffle_data = True)\n",
    "\n",
    "# remove images of different sizes (~200 images)\n",
    "image_list = image_list[~image_list.filename.isin([x+'.dcm' for x in import_data.corrupted_images()])]\n",
    "\n",
    "# create a df of images to use for analysis\n",
    "data = import_data.balanced_images_binary(image_list)\n",
    "\n",
    "# split train and validation data\n",
    "train_data, valid_data = train_test_split(data, test_size = 0.15, random_state = random_seed)"
   ]
  },
  {
   "cell_type": "code",
   "execution_count": 4,
   "metadata": {},
   "outputs": [],
   "source": [
    "# limit datasets to a multiple of batch_size\n",
    "train_data_excess = len(train_data) % batch_size\n",
    "valid_data_excess = len(valid_data) % batch_size\n",
    "\n",
    "train_data = train_data[:-train_data_excess]\n",
    "valid_data = valid_data[:-valid_data_excess]"
   ]
  },
  {
   "cell_type": "code",
   "execution_count": 5,
   "metadata": {},
   "outputs": [],
   "source": [
    "traingen=image_processing.DataGenerator_single_class(train_data,data_path = data_path, batch_size = batch_size)\n",
    "validgen=image_processing.DataGenerator_single_class(valid_data,data_path = data_path, batch_size = batch_size)"
   ]
  },
  {
   "cell_type": "code",
   "execution_count": 6,
   "metadata": {},
   "outputs": [],
   "source": [
    "train_data_test = train_data[0:batch_size*5]\n",
    "valid_data_test = valid_data[0:batch_size*1]\n",
    "\n",
    "traingen_test=image_processing.DataGenerator_single_class(train_data_test,data_path = data_path, batch_size = batch_size)\n",
    "validgen_test=image_processing.DataGenerator_single_class(valid_data_test,data_path = data_path, batch_size = batch_size)"
   ]
  },
  {
   "cell_type": "code",
   "execution_count": 7,
   "metadata": {},
   "outputs": [
    {
     "name": "stdout",
     "output_type": "stream",
     "text": [
      "<class 'pandas.core.frame.DataFrame'>\n",
      "Int64Index: 164864 entries, 77465 to 3511\n",
      "Data columns (total 7 columns):\n",
      "filename            164864 non-null object\n",
      "any                 164864 non-null int64\n",
      "epidural            164864 non-null int64\n",
      "intraparenchymal    164864 non-null int64\n",
      "intraventricular    164864 non-null int64\n",
      "subarachnoid        164864 non-null int64\n",
      "subdural            164864 non-null int64\n",
      "dtypes: int64(6), object(1)\n",
      "memory usage: 10.1+ MB\n"
     ]
    }
   ],
   "source": [
    "train_data.info()\n",
    "# valid_data.info()"
   ]
  },
  {
   "cell_type": "markdown",
   "metadata": {},
   "source": [
    "## Run Model"
   ]
  },
  {
   "cell_type": "code",
   "execution_count": 25,
   "metadata": {},
   "outputs": [],
   "source": [
    "# option to load latest model\n",
    "records = file_saving.load_model(records_output = True, model_output = False)\n",
    "last_record = list(records.model_path)[-1]\n",
    "loaded_model = file_saving.load_model(records_output = False, model_output = True, model_file_path = last_record)\n",
    "model = loaded_model"
   ]
  },
  {
   "cell_type": "code",
   "execution_count": 29,
   "metadata": {},
   "outputs": [],
   "source": [
    "# Add weighted log loss - https://www.kaggle.com/akensert/inceptionv3-prev-resnet50-keras-baseline-model\n",
    "# model_notes = \"model_2, with dropout, 165k images, balanced across any and none, binary, 512\"\n",
    "model_notes = \"model 1 starting ~90 valid acc; continuing 165k train images, balanced acrossany and none, binary, 512\"\n",
    "model_tags = ['binary', 'img_size:512', 'model_1']\n",
    "\n",
    "\n",
    "epochs = 2\n",
    "loss='binary_crossentropy'\n",
    "optimizer='adam'"
   ]
  },
  {
   "cell_type": "code",
   "execution_count": null,
   "metadata": {},
   "outputs": [],
   "source": [
    "# model_notes = \"test, binary, 512\"\n",
    "# model_tags = ['binary', 'img_size:512', 'test']"
   ]
  },
  {
   "cell_type": "code",
   "execution_count": null,
   "metadata": {},
   "outputs": [],
   "source": [
    "def model_1():\n",
    "    model = Sequential()\n",
    "\n",
    "    model.add(Conv2D(32, (3, 3), input_shape=(dim[0], dim[1],1)))\n",
    "    model.add(Activation('relu'))\n",
    "    model.add(MaxPooling2D(pool_size=(2, 2)))\n",
    "\n",
    "    model.add(Conv2D(32,(3,3)))\n",
    "    model.add(Activation('relu'))\n",
    "    model.add(MaxPooling2D(pool_size=(5,5)))\n",
    "\n",
    "    model.add(Flatten())  \n",
    "\n",
    "    # model.add(Dense(100))\n",
    "    # model.add(Activation('relu'))\n",
    "\n",
    "    model.add(Dense(50))\n",
    "    model.add(Activation('relu'))\n",
    "\n",
    "    # for 6 classes\n",
    "    model.add(Dense(6, activation = 'sigmoid'))\n",
    "\n",
    "    # for 1 class\n",
    "    model.add(Dense(1, activation = 'sigmoid'))\n",
    "\n",
    "    return model\n",
    "model = model_1()\n",
    "model.compile(loss=loss, optimizer=optimizer, metrics=['accuracy'])\n"
   ]
  },
  {
   "cell_type": "code",
   "execution_count": 12,
   "metadata": {},
   "outputs": [],
   "source": [
    "def model_2():\n",
    "    model = Sequential()\n",
    "\n",
    "    model.add(Conv2D(32, (3, 3), input_shape=(dim[0], dim[1],1)))\n",
    "    model.add(Activation('relu'))\n",
    "    model.add(MaxPooling2D(pool_size=(2, 2)))\n",
    "\n",
    "    model.add(Conv2D(32,(3,3)))\n",
    "    model.add(Activation('relu'))\n",
    "    model.add(MaxPooling2D(pool_size=(5,5)))\n",
    "\n",
    "    model.add(Flatten())  \n",
    "\n",
    "    # model.add(Dense(100))\n",
    "    # model.add(Activation('relu'))\n",
    "\n",
    "    model.add(Dense(50))\n",
    "    model.add(Activation('relu'))\n",
    "    model.add(Dropout(0.5))\n",
    "\n",
    "#     # for 6 classes\n",
    "#     model.add(Dense(6, activation = 'sigmoid'))\n",
    "\n",
    "    # for 1 class\n",
    "    model.add(Dense(1, activation = 'sigmoid'))\n",
    "\n",
    "    return model\n",
    "model = model_2()\n",
    "model.compile(loss=loss, optimizer=optimizer, metrics=['accuracy'])\n"
   ]
  },
  {
   "cell_type": "code",
   "execution_count": null,
   "metadata": {},
   "outputs": [],
   "source": []
  },
  {
   "cell_type": "code",
   "execution_count": null,
   "metadata": {},
   "outputs": [
    {
     "name": "stdout",
     "output_type": "stream",
     "text": [
      "Epoch 1/2\n",
      "  14/1288 [..............................] - ETA: 42:05 - loss: 0.1393 - accuracy: 0.9386"
     ]
    }
   ],
   "source": [
    "# run model\n",
    "\n",
    "history=model.fit_generator(\n",
    "    generator=traingen,\n",
    "    validation_data=validgen,\n",
    "    use_multiprocessing=True,\n",
    "    workers=11,\n",
    "    epochs=epochs)\n",
    "\n",
    "file_saving.save_model(\n",
    "    model, \n",
    "    return_df=True, \n",
    "    model_notes=model_notes,\n",
    "    loss = loss,\n",
    "    optimizer = optimizer,\n",
    "    dim = dim[0],\n",
    "    epochs = epochs,\n",
    "    train_size = len(train_data),\n",
    "    validation_size = len(valid_data)\n",
    ").tail(3)"
   ]
  },
  {
   "cell_type": "code",
   "execution_count": null,
   "metadata": {},
   "outputs": [],
   "source": []
  },
  {
   "cell_type": "markdown",
   "metadata": {},
   "source": [
    "## Visualize Model Effectiveness"
   ]
  },
  {
   "cell_type": "code",
   "execution_count": null,
   "metadata": {},
   "outputs": [],
   "source": [
    "y_pred = model.predict_generator(generator=validgen,use_multiprocessing=True)"
   ]
  },
  {
   "cell_type": "code",
   "execution_count": 18,
   "metadata": {},
   "outputs": [
    {
     "data": {
      "image/png": "[encoded data removed]",
      "text/plain": [
       "<Figure size 432x288 with 2 Axes>"
      ]
     },
     "metadata": {
      "needs_background": "light"
     },
     "output_type": "display_data"
    }
   ],
   "source": [
    "model_support.get_confusion_matrix(valid_data['any'],y_pred)"
   ]
  },
  {
   "cell_type": "code",
   "execution_count": 22,
   "metadata": {},
   "outputs": [
    {
     "data": {
      "image/png": "[encoded data removed]",
      "text/plain": [
       "<Figure size 432x288 with 1 Axes>"
      ]
     },
     "metadata": {
      "needs_background": "light"
     },
     "output_type": "display_data"
    }
   ],
   "source": [
    "# plot accuracy\n",
    "\n",
    "plt.plot(history.history['accuracy'])\n",
    "plt.plot(history.history['val_accuracy'])\n",
    "plt.title('Model accuracy')\n",
    "plt.ylabel('Accuracy')\n",
    "plt.xlabel('Epoch')\n",
    "plt.legend(['Train', 'Test'], loc='upper left')\n",
    "plt.savefig('models/latest_model_accuracy.png')\n",
    "plt.show()\n"
   ]
  },
  {
   "cell_type": "code",
   "execution_count": 20,
   "metadata": {},
   "outputs": [
    {
     "data": {
      "image/png": "[encoded data removed]",
      "text/plain": [
       "<Figure size 432x288 with 1 Axes>"
      ]
     },
     "metadata": {
      "needs_background": "light"
     },
     "output_type": "display_data"
    }
   ],
   "source": [
    "# plot loss\n",
    "\n",
    "plt.plot(history.history['loss'])\n",
    "plt.plot(history.history['val_loss'])\n",
    "plt.title('Model loss')\n",
    "plt.ylabel('Loss')\n",
    "plt.xlabel('Epoch')\n",
    "plt.legend(['Train', 'Test'], loc='upper left')\n",
    "plt.savefig('models/latest_model_loss.png')\n",
    "plt.show()"
   ]
  },
  {
   "cell_type": "code",
   "execution_count": null,
   "metadata": {},
   "outputs": [],
   "source": []
  },
  {
   "cell_type": "code",
   "execution_count": null,
   "metadata": {},
   "outputs": [],
   "source": []
  },
  {
   "cell_type": "code",
   "execution_count": null,
   "metadata": {},
   "outputs": [],
   "source": []
  },
  {
   "cell_type": "markdown",
   "metadata": {},
   "source": [
    "## Loading Previous Models"
   ]
  },
  {
   "cell_type": "code",
   "execution_count": null,
   "metadata": {},
   "outputs": [],
   "source": []
  },
  {
   "cell_type": "code",
   "execution_count": 23,
   "metadata": {},
   "outputs": [
    {
     "data": {
      "text/html": [
       "<div>\n",
       "<style scoped>\n",
       "    .dataframe tbody tr th:only-of-type {\n",
       "        vertical-align: middle;\n",
       "    }\n",
       "\n",
       "    .dataframe tbody tr th {\n",
       "        vertical-align: top;\n",
       "    }\n",
       "\n",
       "    .dataframe thead th {\n",
       "        text-align: right;\n",
       "    }\n",
       "</style>\n",
       "<table border=\"1\" class=\"dataframe\">\n",
       "  <thead>\n",
       "    <tr style=\"text-align: right;\">\n",
       "      <th></th>\n",
       "      <th>epochs</th>\n",
       "      <th>layers</th>\n",
       "      <th>model_name</th>\n",
       "      <th>model_notes</th>\n",
       "      <th>model_path</th>\n",
       "      <th>model_tags</th>\n",
       "      <th>num_layers</th>\n",
       "      <th>optimizer</th>\n",
       "      <th>score</th>\n",
       "      <th>timestamp</th>\n",
       "      <th>train_size</th>\n",
       "      <th>validation_size</th>\n",
       "      <th>dim</th>\n",
       "    </tr>\n",
       "  </thead>\n",
       "  <tbody>\n",
       "    <tr>\n",
       "      <td>19</td>\n",
       "      <td>1</td>\n",
       "      <td>[]</td>\n",
       "      <td>2019-10-19T071537_model.h5</td>\n",
       "      <td>test, binary, 512</td>\n",
       "      <td>models/2019-10-19T071537_model.h5</td>\n",
       "      <td>{'keras', 'tensorflow'}</td>\n",
       "      <td>0</td>\n",
       "      <td>1</td>\n",
       "      <td>1</td>\n",
       "      <td>2019-10-19 07:15:37.685693</td>\n",
       "      <td>1</td>\n",
       "      <td>1</td>\n",
       "      <td>NaN</td>\n",
       "    </tr>\n",
       "    <tr>\n",
       "      <td>20</td>\n",
       "      <td>1</td>\n",
       "      <td>[]</td>\n",
       "      <td>2019-10-19T074255_model.h5</td>\n",
       "      <td>test, binary, 512</td>\n",
       "      <td>models/2019-10-19T074255_model.h5</td>\n",
       "      <td>{'keras', 'tensorflow'}</td>\n",
       "      <td>0</td>\n",
       "      <td>1</td>\n",
       "      <td>1</td>\n",
       "      <td>2019-10-19 07:42:55.813587</td>\n",
       "      <td>1</td>\n",
       "      <td>1</td>\n",
       "      <td>NaN</td>\n",
       "    </tr>\n",
       "    <tr>\n",
       "      <td>21</td>\n",
       "      <td>1</td>\n",
       "      <td>[]</td>\n",
       "      <td>2019-10-21T012256_model.h5</td>\n",
       "      <td>test, binary, 512</td>\n",
       "      <td>models/2019-10-21T012256_model.h5</td>\n",
       "      <td>{'keras', 'tensorflow'}</td>\n",
       "      <td>0</td>\n",
       "      <td>1</td>\n",
       "      <td>1</td>\n",
       "      <td>2019-10-21 01:22:56.730828</td>\n",
       "      <td>1</td>\n",
       "      <td>1</td>\n",
       "      <td>NaN</td>\n",
       "    </tr>\n",
       "    <tr>\n",
       "      <td>22</td>\n",
       "      <td>1</td>\n",
       "      <td>[]</td>\n",
       "      <td>2019-10-21T012507_model.h5</td>\n",
       "      <td>test, binary, 512</td>\n",
       "      <td>models/2019-10-21T012507_model.h5</td>\n",
       "      <td>{'keras', 'tensorflow'}</td>\n",
       "      <td>0</td>\n",
       "      <td>1</td>\n",
       "      <td>1</td>\n",
       "      <td>2019-10-21 01:25:07.216196</td>\n",
       "      <td>1</td>\n",
       "      <td>1</td>\n",
       "      <td>NaN</td>\n",
       "    </tr>\n",
       "    <tr>\n",
       "      <td>23</td>\n",
       "      <td>1</td>\n",
       "      <td>[]</td>\n",
       "      <td>2019-10-21T013017_model.h5</td>\n",
       "      <td>test, binary, 512</td>\n",
       "      <td>models/2019-10-21T013017_model.h5</td>\n",
       "      <td>{'keras', 'tensorflow'}</td>\n",
       "      <td>0</td>\n",
       "      <td>1</td>\n",
       "      <td>1</td>\n",
       "      <td>2019-10-21 01:30:17.505741</td>\n",
       "      <td>1</td>\n",
       "      <td>1</td>\n",
       "      <td>NaN</td>\n",
       "    </tr>\n",
       "    <tr>\n",
       "      <td>24</td>\n",
       "      <td>1</td>\n",
       "      <td>[]</td>\n",
       "      <td>2019-10-21T013140_model.h5</td>\n",
       "      <td>test, binary, 512</td>\n",
       "      <td>models/2019-10-21T013140_model.h5</td>\n",
       "      <td>{'keras', 'tensorflow'}</td>\n",
       "      <td>0</td>\n",
       "      <td>1</td>\n",
       "      <td>1</td>\n",
       "      <td>2019-10-21 01:31:40.354051</td>\n",
       "      <td>1</td>\n",
       "      <td>1</td>\n",
       "      <td>NaN</td>\n",
       "    </tr>\n",
       "    <tr>\n",
       "      <td>25</td>\n",
       "      <td>1</td>\n",
       "      <td>[]</td>\n",
       "      <td>2019-10-21T033555_model.h5</td>\n",
       "      <td>165k train images, balanced across any and non...</td>\n",
       "      <td>models/2019-10-21T033555_model.h5</td>\n",
       "      <td>{'keras', 'tensorflow'}</td>\n",
       "      <td>0</td>\n",
       "      <td>1</td>\n",
       "      <td>1</td>\n",
       "      <td>2019-10-21 03:35:55.310261</td>\n",
       "      <td>1</td>\n",
       "      <td>1</td>\n",
       "      <td>NaN</td>\n",
       "    </tr>\n",
       "    <tr>\n",
       "      <td>26</td>\n",
       "      <td>1</td>\n",
       "      <td>[]</td>\n",
       "      <td>2019-10-21T051800_model.h5</td>\n",
       "      <td>165k train images, balanced across any and non...</td>\n",
       "      <td>models/2019-10-21T051800_model.h5</td>\n",
       "      <td>{'keras', 'tensorflow'}</td>\n",
       "      <td>0</td>\n",
       "      <td>1</td>\n",
       "      <td>1</td>\n",
       "      <td>2019-10-21 05:18:00.485887</td>\n",
       "      <td>1</td>\n",
       "      <td>1</td>\n",
       "      <td>NaN</td>\n",
       "    </tr>\n",
       "    <tr>\n",
       "      <td>27</td>\n",
       "      <td>1</td>\n",
       "      <td>[]</td>\n",
       "      <td>2019-10-24T044518_model.h5</td>\n",
       "      <td>continuing 165k train images, balanced across ...</td>\n",
       "      <td>models/2019-10-24T044518_model.h5</td>\n",
       "      <td>{'keras', 'tensorflow'}</td>\n",
       "      <td>0</td>\n",
       "      <td>adam</td>\n",
       "      <td>1</td>\n",
       "      <td>2019-10-24 04:45:18.152352</td>\n",
       "      <td>164864</td>\n",
       "      <td>29056</td>\n",
       "      <td>512.0</td>\n",
       "    </tr>\n",
       "    <tr>\n",
       "      <td>28</td>\n",
       "      <td>15</td>\n",
       "      <td>[]</td>\n",
       "      <td>2019-10-24T135911_model.h5</td>\n",
       "      <td>model_2, with dropout, 165k images, balanced a...</td>\n",
       "      <td>models/2019-10-24T135911_model.h5</td>\n",
       "      <td>{'keras', 'tensorflow'}</td>\n",
       "      <td>0</td>\n",
       "      <td>adam</td>\n",
       "      <td>1</td>\n",
       "      <td>2019-10-24 13:59:11.733776</td>\n",
       "      <td>164864</td>\n",
       "      <td>29056</td>\n",
       "      <td>512.0</td>\n",
       "    </tr>\n",
       "  </tbody>\n",
       "</table>\n",
       "</div>"
      ],
      "text/plain": [
       "    epochs layers                  model_name  \\\n",
       "19       1     []  2019-10-19T071537_model.h5   \n",
       "20       1     []  2019-10-19T074255_model.h5   \n",
       "21       1     []  2019-10-21T012256_model.h5   \n",
       "22       1     []  2019-10-21T012507_model.h5   \n",
       "23       1     []  2019-10-21T013017_model.h5   \n",
       "24       1     []  2019-10-21T013140_model.h5   \n",
       "25       1     []  2019-10-21T033555_model.h5   \n",
       "26       1     []  2019-10-21T051800_model.h5   \n",
       "27       1     []  2019-10-24T044518_model.h5   \n",
       "28      15     []  2019-10-24T135911_model.h5   \n",
       "\n",
       "                                          model_notes  \\\n",
       "19                                  test, binary, 512   \n",
       "20                                  test, binary, 512   \n",
       "21                                  test, binary, 512   \n",
       "22                                  test, binary, 512   \n",
       "23                                  test, binary, 512   \n",
       "24                                  test, binary, 512   \n",
       "25  165k train images, balanced across any and non...   \n",
       "26  165k train images, balanced across any and non...   \n",
       "27  continuing 165k train images, balanced across ...   \n",
       "28  model_2, with dropout, 165k images, balanced a...   \n",
       "\n",
       "                           model_path               model_tags  num_layers  \\\n",
       "19  models/2019-10-19T071537_model.h5  {'keras', 'tensorflow'}           0   \n",
       "20  models/2019-10-19T074255_model.h5  {'keras', 'tensorflow'}           0   \n",
       "21  models/2019-10-21T012256_model.h5  {'keras', 'tensorflow'}           0   \n",
       "22  models/2019-10-21T012507_model.h5  {'keras', 'tensorflow'}           0   \n",
       "23  models/2019-10-21T013017_model.h5  {'keras', 'tensorflow'}           0   \n",
       "24  models/2019-10-21T013140_model.h5  {'keras', 'tensorflow'}           0   \n",
       "25  models/2019-10-21T033555_model.h5  {'keras', 'tensorflow'}           0   \n",
       "26  models/2019-10-21T051800_model.h5  {'keras', 'tensorflow'}           0   \n",
       "27  models/2019-10-24T044518_model.h5  {'keras', 'tensorflow'}           0   \n",
       "28  models/2019-10-24T135911_model.h5  {'keras', 'tensorflow'}           0   \n",
       "\n",
       "   optimizer  score                   timestamp  train_size  validation_size  \\\n",
       "19         1      1  2019-10-19 07:15:37.685693           1                1   \n",
       "20         1      1  2019-10-19 07:42:55.813587           1                1   \n",
       "21         1      1  2019-10-21 01:22:56.730828           1                1   \n",
       "22         1      1  2019-10-21 01:25:07.216196           1                1   \n",
       "23         1      1  2019-10-21 01:30:17.505741           1                1   \n",
       "24         1      1  2019-10-21 01:31:40.354051           1                1   \n",
       "25         1      1  2019-10-21 03:35:55.310261           1                1   \n",
       "26         1      1  2019-10-21 05:18:00.485887           1                1   \n",
       "27      adam      1  2019-10-24 04:45:18.152352      164864            29056   \n",
       "28      adam      1  2019-10-24 13:59:11.733776      164864            29056   \n",
       "\n",
       "      dim  \n",
       "19    NaN  \n",
       "20    NaN  \n",
       "21    NaN  \n",
       "22    NaN  \n",
       "23    NaN  \n",
       "24    NaN  \n",
       "25    NaN  \n",
       "26    NaN  \n",
       "27  512.0  \n",
       "28  512.0  "
      ]
     },
     "execution_count": 23,
     "metadata": {},
     "output_type": "execute_result"
    }
   ],
   "source": [
    "# See df of most recent records\n",
    "records = file_saving.load_model(records_output = True, model_output = False)\n",
    "last_record = list(records.model_path)[-1]\n",
    "records.tail(10)"
   ]
  },
  {
   "cell_type": "code",
   "execution_count": 19,
   "metadata": {},
   "outputs": [],
   "source": [
    "# load_model last model\n",
    "_, loaded_model = file_saving.load_model(records_output = True, model_output = True, model_file_path = last_record)\n"
   ]
  },
  {
   "cell_type": "code",
   "execution_count": 29,
   "metadata": {},
   "outputs": [],
   "source": [
    "y_pred = loaded_model.predict_generator(generator=validgen,use_multiprocessing=True)"
   ]
  },
  {
   "cell_type": "code",
   "execution_count": 30,
   "metadata": {},
   "outputs": [
    {
     "data": {
      "image/png": "[encoded data removed]",
      "text/plain": [
       "<Figure size 432x288 with 2 Axes>"
      ]
     },
     "metadata": {
      "needs_background": "light"
     },
     "output_type": "display_data"
    }
   ],
   "source": [
    "model_support.get_confusion_matrix(valid_data['any'],y_pred)"
   ]
  },
  {
   "cell_type": "code",
   "execution_count": 43,
   "metadata": {},
   "outputs": [],
   "source": [
    "# load_model last model\n",
    "_, loaded_model = file_saving.load_model(records_output = True, model_output = True, model_file_path = last_record)\n",
    "y_pred = loaded_model.predict_generator(generator=validgen,use_multiprocessing=True)"
   ]
  },
  {
   "cell_type": "code",
   "execution_count": 44,
   "metadata": {},
   "outputs": [
    {
     "data": {
      "image/png": "[encoded data removed]",
      "text/plain": [
       "<Figure size 432x288 with 2 Axes>"
      ]
     },
     "metadata": {
      "needs_background": "light"
     },
     "output_type": "display_data"
    }
   ],
   "source": [
    "model_support.get_confusion_matrix(valid_data['any'],y_pred)"
   ]
  },
  {
   "cell_type": "code",
   "execution_count": null,
   "metadata": {},
   "outputs": [],
   "source": []
  },
  {
   "cell_type": "markdown",
   "metadata": {},
   "source": [
    "# TESTING"
   ]
  },
  {
   "cell_type": "markdown",
   "metadata": {},
   "source": [
    "### Visualizing a batch of images"
   ]
  },
  {
   "cell_type": "code",
   "execution_count": null,
   "metadata": {},
   "outputs": [],
   "source": [
    "# visualize a batch of images\n",
    "batch = 27\n",
    "batch_of_images = image_list[batch_size*np.min(batch-1,0):batch_size*batch]\n",
    "image_paths = ['../data/stage_1_train_images/'+filename for filename in batch_of_images.filename]\n",
    "image_processing.display_image_processing(image_paths = image_paths)"
   ]
  },
  {
   "cell_type": "markdown",
   "metadata": {},
   "source": [
    "#### Saving and loading models"
   ]
  },
  {
   "cell_type": "code",
   "execution_count": 58,
   "metadata": {},
   "outputs": [],
   "source": [
    "# barebones function to save. Used for testing the save functions\n",
    "\n",
    "model_path = 'models/2019-10-13T224638_model.h5'\n",
    "# keras.models.save_model(model, model_path)\n",
    "loaded_model = tf.keras.models.load_model(model_path)\n"
   ]
  },
  {
   "cell_type": "code",
   "execution_count": 318,
   "metadata": {},
   "outputs": [
    {
     "name": "stdout",
     "output_type": "stream",
     "text": [
      "worked-1\n",
      "worked-2\n"
     ]
    },
    {
     "data": {
      "text/html": [
       "<div>\n",
       "<style scoped>\n",
       "    .dataframe tbody tr th:only-of-type {\n",
       "        vertical-align: middle;\n",
       "    }\n",
       "\n",
       "    .dataframe tbody tr th {\n",
       "        vertical-align: top;\n",
       "    }\n",
       "\n",
       "    .dataframe thead th {\n",
       "        text-align: right;\n",
       "    }\n",
       "</style>\n",
       "<table border=\"1\" class=\"dataframe\">\n",
       "  <thead>\n",
       "    <tr style=\"text-align: right;\">\n",
       "      <th></th>\n",
       "      <th>epochs</th>\n",
       "      <th>layers</th>\n",
       "      <th>model_name</th>\n",
       "      <th>model_notes</th>\n",
       "      <th>model_path</th>\n",
       "      <th>model_tags</th>\n",
       "      <th>num_layers</th>\n",
       "      <th>optimizer</th>\n",
       "      <th>score</th>\n",
       "      <th>timestamp</th>\n",
       "      <th>train_size</th>\n",
       "      <th>validation_size</th>\n",
       "    </tr>\n",
       "  </thead>\n",
       "  <tbody>\n",
       "    <tr>\n",
       "      <td>0</td>\n",
       "      <td>1</td>\n",
       "      <td>[]</td>\n",
       "      <td>2019-10-10T211053_model.h5</td>\n",
       "      <td>NaN</td>\n",
       "      <td>models/2019-10-10T211053_model.h5</td>\n",
       "      <td>{'keras', 'tensorflow'}</td>\n",
       "      <td>0</td>\n",
       "      <td>1</td>\n",
       "      <td>1</td>\n",
       "      <td>2019-10-10 21:10:53.796514</td>\n",
       "      <td>1</td>\n",
       "      <td>1</td>\n",
       "    </tr>\n",
       "    <tr>\n",
       "      <td>1</td>\n",
       "      <td>1</td>\n",
       "      <td>[]</td>\n",
       "      <td>2019-10-10T211056_model.h5</td>\n",
       "      <td>NaN</td>\n",
       "      <td>models/2019-10-10T211056_model.h5</td>\n",
       "      <td>{'keras', 'tensorflow'}</td>\n",
       "      <td>0</td>\n",
       "      <td>1</td>\n",
       "      <td>1</td>\n",
       "      <td>2019-10-10 21:10:56.404866</td>\n",
       "      <td>1</td>\n",
       "      <td>1</td>\n",
       "    </tr>\n",
       "    <tr>\n",
       "      <td>2</td>\n",
       "      <td>1</td>\n",
       "      <td>[]</td>\n",
       "      <td>2019-10-10T211112_model.h5</td>\n",
       "      <td>hello</td>\n",
       "      <td>models/2019-10-10T211112_model.h5</td>\n",
       "      <td>{'keras', 'tensorflow'}</td>\n",
       "      <td>0</td>\n",
       "      <td>1</td>\n",
       "      <td>1</td>\n",
       "      <td>2019-10-10 21:11:12.708478</td>\n",
       "      <td>1</td>\n",
       "      <td>1</td>\n",
       "    </tr>\n",
       "    <tr>\n",
       "      <td>3</td>\n",
       "      <td>1</td>\n",
       "      <td>[]</td>\n",
       "      <td>2019-10-10T211115_model.h5</td>\n",
       "      <td>hello</td>\n",
       "      <td>models/2019-10-10T211115_model.h5</td>\n",
       "      <td>{'keras', 'tensorflow'}</td>\n",
       "      <td>0</td>\n",
       "      <td>1</td>\n",
       "      <td>1</td>\n",
       "      <td>2019-10-10 21:11:15.211067</td>\n",
       "      <td>1</td>\n",
       "      <td>1</td>\n",
       "    </tr>\n",
       "    <tr>\n",
       "      <td>4</td>\n",
       "      <td>1</td>\n",
       "      <td>[]</td>\n",
       "      <td>2019-10-10T211116_model.h5</td>\n",
       "      <td>hello</td>\n",
       "      <td>models/2019-10-10T211116_model.h5</td>\n",
       "      <td>{'keras', 'tensorflow'}</td>\n",
       "      <td>0</td>\n",
       "      <td>1</td>\n",
       "      <td>1</td>\n",
       "      <td>2019-10-10 21:11:16.248314</td>\n",
       "      <td>1</td>\n",
       "      <td>1</td>\n",
       "    </tr>\n",
       "    <tr>\n",
       "      <td>5</td>\n",
       "      <td>1</td>\n",
       "      <td>[]</td>\n",
       "      <td>2019-10-10T211129_model.h5</td>\n",
       "      <td>hello</td>\n",
       "      <td>models/2019-10-10T211129_model.h5</td>\n",
       "      <td>{keras, tensorflow}</td>\n",
       "      <td>0</td>\n",
       "      <td>1</td>\n",
       "      <td>1</td>\n",
       "      <td>2019-10-10 21:11:29.360498</td>\n",
       "      <td>1</td>\n",
       "      <td>1</td>\n",
       "    </tr>\n",
       "  </tbody>\n",
       "</table>\n",
       "</div>"
      ],
      "text/plain": [
       "   epochs layers                  model_name model_notes  \\\n",
       "0       1     []  2019-10-10T211053_model.h5         NaN   \n",
       "1       1     []  2019-10-10T211056_model.h5         NaN   \n",
       "2       1     []  2019-10-10T211112_model.h5       hello   \n",
       "3       1     []  2019-10-10T211115_model.h5       hello   \n",
       "4       1     []  2019-10-10T211116_model.h5       hello   \n",
       "5       1     []  2019-10-10T211129_model.h5       hello   \n",
       "\n",
       "                          model_path               model_tags  num_layers  \\\n",
       "0  models/2019-10-10T211053_model.h5  {'keras', 'tensorflow'}           0   \n",
       "1  models/2019-10-10T211056_model.h5  {'keras', 'tensorflow'}           0   \n",
       "2  models/2019-10-10T211112_model.h5  {'keras', 'tensorflow'}           0   \n",
       "3  models/2019-10-10T211115_model.h5  {'keras', 'tensorflow'}           0   \n",
       "4  models/2019-10-10T211116_model.h5  {'keras', 'tensorflow'}           0   \n",
       "5  models/2019-10-10T211129_model.h5      {keras, tensorflow}           0   \n",
       "\n",
       "   optimizer  score                   timestamp  train_size  validation_size  \n",
       "0          1      1  2019-10-10 21:10:53.796514           1                1  \n",
       "1          1      1  2019-10-10 21:10:56.404866           1                1  \n",
       "2          1      1  2019-10-10 21:11:12.708478           1                1  \n",
       "3          1      1  2019-10-10 21:11:15.211067           1                1  \n",
       "4          1      1  2019-10-10 21:11:16.248314           1                1  \n",
       "5          1      1  2019-10-10 21:11:29.360498           1                1  "
      ]
     },
     "execution_count": 318,
     "metadata": {},
     "output_type": "execute_result"
    }
   ],
   "source": [
    "# test = save_model(model, model_tags = [],return_df=True, model_notes=\"hello\")\n",
    "# test"
   ]
  },
  {
   "cell_type": "code",
   "execution_count": 286,
   "metadata": {},
   "outputs": [
    {
     "data": {
      "text/html": [
       "<div>\n",
       "<style scoped>\n",
       "    .dataframe tbody tr th:only-of-type {\n",
       "        vertical-align: middle;\n",
       "    }\n",
       "\n",
       "    .dataframe tbody tr th {\n",
       "        vertical-align: top;\n",
       "    }\n",
       "\n",
       "    .dataframe thead th {\n",
       "        text-align: right;\n",
       "    }\n",
       "</style>\n",
       "<table border=\"1\" class=\"dataframe\">\n",
       "  <thead>\n",
       "    <tr style=\"text-align: right;\">\n",
       "      <th></th>\n",
       "      <th>epochs</th>\n",
       "      <th>layers</th>\n",
       "      <th>model_name</th>\n",
       "      <th>model_path</th>\n",
       "      <th>model_tags</th>\n",
       "      <th>num_layers</th>\n",
       "      <th>optimizer</th>\n",
       "      <th>score</th>\n",
       "      <th>timestamp</th>\n",
       "      <th>train_size</th>\n",
       "      <th>validation_size</th>\n",
       "    </tr>\n",
       "  </thead>\n",
       "  <tbody>\n",
       "    <tr>\n",
       "      <td>0</td>\n",
       "      <td>1</td>\n",
       "      <td>[]</td>\n",
       "      <td>2019-10-10T202614_model.h5</td>\n",
       "      <td>models/2019-10-10T202614_model.h5</td>\n",
       "      <td>{'keras', 'tensorflow'}</td>\n",
       "      <td>0</td>\n",
       "      <td>1</td>\n",
       "      <td>1</td>\n",
       "      <td>2019-10-10 20:26:14.109413</td>\n",
       "      <td>1</td>\n",
       "      <td>1</td>\n",
       "    </tr>\n",
       "    <tr>\n",
       "      <td>1</td>\n",
       "      <td>1</td>\n",
       "      <td>[]</td>\n",
       "      <td>2019-10-10T202617_model.h5</td>\n",
       "      <td>models/2019-10-10T202617_model.h5</td>\n",
       "      <td>{'keras', 'tensorflow'}</td>\n",
       "      <td>0</td>\n",
       "      <td>1</td>\n",
       "      <td>1</td>\n",
       "      <td>2019-10-10 20:26:17.506235</td>\n",
       "      <td>1</td>\n",
       "      <td>1</td>\n",
       "    </tr>\n",
       "    <tr>\n",
       "      <td>2</td>\n",
       "      <td>1</td>\n",
       "      <td>[]</td>\n",
       "      <td>2019-10-10T202618_model.h5</td>\n",
       "      <td>models/2019-10-10T202618_model.h5</td>\n",
       "      <td>{'keras', 'tensorflow'}</td>\n",
       "      <td>0</td>\n",
       "      <td>1</td>\n",
       "      <td>1</td>\n",
       "      <td>2019-10-10 20:26:18.759291</td>\n",
       "      <td>1</td>\n",
       "      <td>1</td>\n",
       "    </tr>\n",
       "    <tr>\n",
       "      <td>3</td>\n",
       "      <td>1</td>\n",
       "      <td>[]</td>\n",
       "      <td>2019-10-10T202619_model.h5</td>\n",
       "      <td>models/2019-10-10T202619_model.h5</td>\n",
       "      <td>{'keras', 'tensorflow'}</td>\n",
       "      <td>0</td>\n",
       "      <td>1</td>\n",
       "      <td>1</td>\n",
       "      <td>2019-10-10 20:26:19.641559</td>\n",
       "      <td>1</td>\n",
       "      <td>1</td>\n",
       "    </tr>\n",
       "    <tr>\n",
       "      <td>4</td>\n",
       "      <td>1</td>\n",
       "      <td>[]</td>\n",
       "      <td>2019-10-10T202620_model.h5</td>\n",
       "      <td>models/2019-10-10T202620_model.h5</td>\n",
       "      <td>{'keras', 'tensorflow'}</td>\n",
       "      <td>0</td>\n",
       "      <td>1</td>\n",
       "      <td>1</td>\n",
       "      <td>2019-10-10 20:26:20.819121</td>\n",
       "      <td>1</td>\n",
       "      <td>1</td>\n",
       "    </tr>\n",
       "    <tr>\n",
       "      <td>5</td>\n",
       "      <td>1</td>\n",
       "      <td>[]</td>\n",
       "      <td>2019-10-10T202621_model.h5</td>\n",
       "      <td>models/2019-10-10T202621_model.h5</td>\n",
       "      <td>{'keras', 'tensorflow'}</td>\n",
       "      <td>0</td>\n",
       "      <td>1</td>\n",
       "      <td>1</td>\n",
       "      <td>2019-10-10 20:26:21.808913</td>\n",
       "      <td>1</td>\n",
       "      <td>1</td>\n",
       "    </tr>\n",
       "    <tr>\n",
       "      <td>6</td>\n",
       "      <td>1</td>\n",
       "      <td>[]</td>\n",
       "      <td>2019-10-10T202622_model.h5</td>\n",
       "      <td>models/2019-10-10T202622_model.h5</td>\n",
       "      <td>{'keras', 'tensorflow'}</td>\n",
       "      <td>0</td>\n",
       "      <td>1</td>\n",
       "      <td>1</td>\n",
       "      <td>2019-10-10 20:26:22.799794</td>\n",
       "      <td>1</td>\n",
       "      <td>1</td>\n",
       "    </tr>\n",
       "    <tr>\n",
       "      <td>7</td>\n",
       "      <td>1</td>\n",
       "      <td>[]</td>\n",
       "      <td>2019-10-10T202627_model.h5</td>\n",
       "      <td>models/2019-10-10T202627_model.h5</td>\n",
       "      <td>{'keras', 'tensorflow'}</td>\n",
       "      <td>0</td>\n",
       "      <td>1</td>\n",
       "      <td>1</td>\n",
       "      <td>2019-10-10 20:26:27.330631</td>\n",
       "      <td>1</td>\n",
       "      <td>1</td>\n",
       "    </tr>\n",
       "  </tbody>\n",
       "</table>\n",
       "</div>"
      ],
      "text/plain": [
       "   epochs layers                  model_name  \\\n",
       "0       1     []  2019-10-10T202614_model.h5   \n",
       "1       1     []  2019-10-10T202617_model.h5   \n",
       "2       1     []  2019-10-10T202618_model.h5   \n",
       "3       1     []  2019-10-10T202619_model.h5   \n",
       "4       1     []  2019-10-10T202620_model.h5   \n",
       "5       1     []  2019-10-10T202621_model.h5   \n",
       "6       1     []  2019-10-10T202622_model.h5   \n",
       "7       1     []  2019-10-10T202627_model.h5   \n",
       "\n",
       "                          model_path               model_tags  num_layers  \\\n",
       "0  models/2019-10-10T202614_model.h5  {'keras', 'tensorflow'}           0   \n",
       "1  models/2019-10-10T202617_model.h5  {'keras', 'tensorflow'}           0   \n",
       "2  models/2019-10-10T202618_model.h5  {'keras', 'tensorflow'}           0   \n",
       "3  models/2019-10-10T202619_model.h5  {'keras', 'tensorflow'}           0   \n",
       "4  models/2019-10-10T202620_model.h5  {'keras', 'tensorflow'}           0   \n",
       "5  models/2019-10-10T202621_model.h5  {'keras', 'tensorflow'}           0   \n",
       "6  models/2019-10-10T202622_model.h5  {'keras', 'tensorflow'}           0   \n",
       "7  models/2019-10-10T202627_model.h5  {'keras', 'tensorflow'}           0   \n",
       "\n",
       "   optimizer  score                   timestamp  train_size  validation_size  \n",
       "0          1      1  2019-10-10 20:26:14.109413           1                1  \n",
       "1          1      1  2019-10-10 20:26:17.506235           1                1  \n",
       "2          1      1  2019-10-10 20:26:18.759291           1                1  \n",
       "3          1      1  2019-10-10 20:26:19.641559           1                1  \n",
       "4          1      1  2019-10-10 20:26:20.819121           1                1  \n",
       "5          1      1  2019-10-10 20:26:21.808913           1                1  \n",
       "6          1      1  2019-10-10 20:26:22.799794           1                1  \n",
       "7          1      1  2019-10-10 20:26:27.330631           1                1  "
      ]
     },
     "execution_count": 286,
     "metadata": {},
     "output_type": "execute_result"
    }
   ],
   "source": [
    "# root = 'models/'\n",
    "# save_as_type = 'h5' # can choose 'h5' or 'tf'\n",
    "# model_records_path = root+'model_records.csv'\n",
    "\n",
    "# df = pd.read_csv(model_records_path)\n",
    "# df"
   ]
  },
  {
   "cell_type": "code",
   "execution_count": 32,
   "metadata": {},
   "outputs": [],
   "source": [
    "# Load model, if starting from a pre-made model\n",
    "# root = 'models/'\n",
    "# records_df, model = load_model(model_file_path=\"models/2019-10-11T004440_model.h5\", model_output=True)\n",
    "\n",
    "# from keras.initializers import glorot_uniform\n",
    "\n",
    "# from keras.models import load_model\n",
    "# from keras.utils import CustomObjectScope\n",
    "# from keras.initializers import glorot_uniform\n",
    "# with CustomObjectScope({'GlorotUniform': glorot_uniform()}):\n",
    "#         loaded_model = keras.models.load_model('models/2019-10-11T004440_model.h5')\n",
    "\n",
    "# model = keras.models.load_model('models/2019-10-11T004440_model.h5',custom_objects={\"GlorotUniform\": keras.initializers.glorot_uniform})\n",
    "\n",
    "# custom_objects={\"GlorotUniform\": tf.keras.initializers.glorot_uniform}\n",
    "\n",
    "# from keras.models import load_model\n",
    "# from keras.utils import CustomObjectScope\n",
    "\n",
    "# with CustomObjectScope({'GlorotUniform': glorot_uniform()}):\n",
    "\n",
    "#         model = load_model('imdb_mlp_model.h5')\n",
    "\n",
    "# root = 'models/'\n",
    "\n",
    "# save_as_type = 'h5' # can choose 'h5' or 'tf'\n",
    "# model_records_path = root+'model_records.csv'\n",
    "\n",
    "# df = pd.read_csv(model_records_path)\n",
    "# df\n"
   ]
  },
  {
   "cell_type": "markdown",
   "metadata": {},
   "source": [
    "#### Time"
   ]
  },
  {
   "cell_type": "code",
   "execution_count": 112,
   "metadata": {},
   "outputs": [],
   "source": [
    "import time\n",
    "# import datetime\n",
    "from datetime import datetime"
   ]
  },
  {
   "cell_type": "code",
   "execution_count": 194,
   "metadata": {},
   "outputs": [
    {
     "data": {
      "text/plain": [
       "'2019-10-10T195147'"
      ]
     },
     "execution_count": 194,
     "metadata": {},
     "output_type": "execute_result"
    }
   ],
   "source": [
    "# d = date.today()\n",
    "from datetime import datetime\n",
    "d = datetime.utcnow()\n",
    "d.isoformat()\n",
    "d.strftime(\"%Y-%m-%dT%H%M%S\")"
   ]
  },
  {
   "cell_type": "code",
   "execution_count": null,
   "metadata": {},
   "outputs": [],
   "source": []
  },
  {
   "cell_type": "code",
   "execution_count": null,
   "metadata": {},
   "outputs": [],
   "source": []
  },
  {
   "cell_type": "code",
   "execution_count": null,
   "metadata": {},
   "outputs": [],
   "source": []
  },
  {
   "cell_type": "code",
   "execution_count": null,
   "metadata": {},
   "outputs": [],
   "source": []
  },
  {
   "cell_type": "code",
   "execution_count": 55,
   "metadata": {},
   "outputs": [],
   "source": [
    "# get df of image paths and labels\n",
    "image_list_2 = import_data.clean_data_csv(shuffle_data = False)\n",
    "image_paths_2 = ['../data/stage_1_train_images/'+filename for filename in image_list_2.filename]"
   ]
  },
  {
   "cell_type": "code",
   "execution_count": 57,
   "metadata": {},
   "outputs": [
    {
     "data": {
      "text/plain": [
       "10"
      ]
     },
     "execution_count": 57,
     "metadata": {},
     "output_type": "execute_result"
    }
   ],
   "source": [
    "len(image_paths_2[:10])"
   ]
  },
  {
   "cell_type": "code",
   "execution_count": null,
   "metadata": {},
   "outputs": [],
   "source": [
    "corrupt_images = []\n",
    "for image in image_paths_2[:10]:\n",
    "    ds=pydicom.dcmread(img_path)\n",
    "    raw=ds.pixel_array\n",
    "    \n",
    "\n",
    "    \n",
    "# image_paths\n",
    "image_processing.display_image_processing(image_paths = image_paths)\n",
    "    "
   ]
  },
  {
   "cell_type": "code",
   "execution_count": null,
   "metadata": {},
   "outputs": [],
   "source": []
  },
  {
   "cell_type": "code",
   "execution_count": 54,
   "metadata": {},
   "outputs": [
    {
     "data": {
      "text/html": [
       "<div>\n",
       "<style scoped>\n",
       "    .dataframe tbody tr th:only-of-type {\n",
       "        vertical-align: middle;\n",
       "    }\n",
       "\n",
       "    .dataframe tbody tr th {\n",
       "        vertical-align: top;\n",
       "    }\n",
       "\n",
       "    .dataframe thead th {\n",
       "        text-align: right;\n",
       "    }\n",
       "</style>\n",
       "<table border=\"1\" class=\"dataframe\">\n",
       "  <thead>\n",
       "    <tr style=\"text-align: right;\">\n",
       "      <th></th>\n",
       "      <th>filename</th>\n",
       "      <th>any</th>\n",
       "      <th>epidural</th>\n",
       "      <th>intraparenchymal</th>\n",
       "      <th>intraventricular</th>\n",
       "      <th>subarachnoid</th>\n",
       "      <th>subdural</th>\n",
       "    </tr>\n",
       "  </thead>\n",
       "  <tbody>\n",
       "    <tr>\n",
       "      <td>0</td>\n",
       "      <td>ID_000039fa0.dcm</td>\n",
       "      <td>0</td>\n",
       "      <td>0</td>\n",
       "      <td>0</td>\n",
       "      <td>0</td>\n",
       "      <td>0</td>\n",
       "      <td>0</td>\n",
       "    </tr>\n",
       "    <tr>\n",
       "      <td>1</td>\n",
       "      <td>ID_00005679d.dcm</td>\n",
       "      <td>0</td>\n",
       "      <td>0</td>\n",
       "      <td>0</td>\n",
       "      <td>0</td>\n",
       "      <td>0</td>\n",
       "      <td>0</td>\n",
       "    </tr>\n",
       "    <tr>\n",
       "      <td>2</td>\n",
       "      <td>ID_00008ce3c.dcm</td>\n",
       "      <td>0</td>\n",
       "      <td>0</td>\n",
       "      <td>0</td>\n",
       "      <td>0</td>\n",
       "      <td>0</td>\n",
       "      <td>0</td>\n",
       "    </tr>\n",
       "    <tr>\n",
       "      <td>3</td>\n",
       "      <td>ID_0000950d7.dcm</td>\n",
       "      <td>0</td>\n",
       "      <td>0</td>\n",
       "      <td>0</td>\n",
       "      <td>0</td>\n",
       "      <td>0</td>\n",
       "      <td>0</td>\n",
       "    </tr>\n",
       "    <tr>\n",
       "      <td>4</td>\n",
       "      <td>ID_0000aee4b.dcm</td>\n",
       "      <td>0</td>\n",
       "      <td>0</td>\n",
       "      <td>0</td>\n",
       "      <td>0</td>\n",
       "      <td>0</td>\n",
       "      <td>0</td>\n",
       "    </tr>\n",
       "    <tr>\n",
       "      <td>5</td>\n",
       "      <td>ID_0000f1657.dcm</td>\n",
       "      <td>0</td>\n",
       "      <td>0</td>\n",
       "      <td>0</td>\n",
       "      <td>0</td>\n",
       "      <td>0</td>\n",
       "      <td>0</td>\n",
       "    </tr>\n",
       "    <tr>\n",
       "      <td>6</td>\n",
       "      <td>ID_000178e76.dcm</td>\n",
       "      <td>0</td>\n",
       "      <td>0</td>\n",
       "      <td>0</td>\n",
       "      <td>0</td>\n",
       "      <td>0</td>\n",
       "      <td>0</td>\n",
       "    </tr>\n",
       "    <tr>\n",
       "      <td>7</td>\n",
       "      <td>ID_00019828f.dcm</td>\n",
       "      <td>0</td>\n",
       "      <td>0</td>\n",
       "      <td>0</td>\n",
       "      <td>0</td>\n",
       "      <td>0</td>\n",
       "      <td>0</td>\n",
       "    </tr>\n",
       "    <tr>\n",
       "      <td>8</td>\n",
       "      <td>ID_0001dcc25.dcm</td>\n",
       "      <td>0</td>\n",
       "      <td>0</td>\n",
       "      <td>0</td>\n",
       "      <td>0</td>\n",
       "      <td>0</td>\n",
       "      <td>0</td>\n",
       "    </tr>\n",
       "    <tr>\n",
       "      <td>9</td>\n",
       "      <td>ID_0001de0e8.dcm</td>\n",
       "      <td>0</td>\n",
       "      <td>0</td>\n",
       "      <td>0</td>\n",
       "      <td>0</td>\n",
       "      <td>0</td>\n",
       "      <td>0</td>\n",
       "    </tr>\n",
       "  </tbody>\n",
       "</table>\n",
       "</div>"
      ],
      "text/plain": [
       "           filename  any  epidural  intraparenchymal  intraventricular  \\\n",
       "0  ID_000039fa0.dcm    0         0                 0                 0   \n",
       "1  ID_00005679d.dcm    0         0                 0                 0   \n",
       "2  ID_00008ce3c.dcm    0         0                 0                 0   \n",
       "3  ID_0000950d7.dcm    0         0                 0                 0   \n",
       "4  ID_0000aee4b.dcm    0         0                 0                 0   \n",
       "5  ID_0000f1657.dcm    0         0                 0                 0   \n",
       "6  ID_000178e76.dcm    0         0                 0                 0   \n",
       "7  ID_00019828f.dcm    0         0                 0                 0   \n",
       "8  ID_0001dcc25.dcm    0         0                 0                 0   \n",
       "9  ID_0001de0e8.dcm    0         0                 0                 0   \n",
       "\n",
       "   subarachnoid  subdural  \n",
       "0             0         0  \n",
       "1             0         0  \n",
       "2             0         0  \n",
       "3             0         0  \n",
       "4             0         0  \n",
       "5             0         0  \n",
       "6             0         0  \n",
       "7             0         0  \n",
       "8             0         0  \n",
       "9             0         0  "
      ]
     },
     "execution_count": 54,
     "metadata": {},
     "output_type": "execute_result"
    }
   ],
   "source": [
    "image_list_2[:10]"
   ]
  },
  {
   "cell_type": "code",
   "execution_count": null,
   "metadata": {},
   "outputs": [],
   "source": []
  }
 ],
 "metadata": {
  "kernelspec": {
   "display_name": "Python 3",
   "language": "python",
   "name": "python3"
  },
  "language_info": {
   "codemirror_mode": {
    "name": "ipython",
    "version": 3
   },
   "file_extension": ".py",
   "mimetype": "text/x-python",
   "name": "python",
   "nbconvert_exporter": "python",
   "pygments_lexer": "ipython3",
   "version": "3.5.3"
  }
 },
 "nbformat": 4,
 "nbformat_minor": 4
}
