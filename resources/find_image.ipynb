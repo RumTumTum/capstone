{
 "cells": [
  {
   "cell_type": "code",
   "execution_count": 4,
   "metadata": {},
   "outputs": [],
   "source": [
    "# Standard libraries\n",
    "import numpy as np\n",
    "import pandas as pd\n",
    "import matplotlib.pyplot as plt\n",
    "%matplotlib inline\n",
    "\n",
    "# Images\n",
    "import pydicom\n",
    "import cv2"
   ]
  },
  {
   "cell_type": "code",
   "execution_count": 2,
   "metadata": {},
   "outputs": [],
   "source": [
    "# load image csv\n",
    "data_path = \"../data/\"\n",
    "train_raw = pd.read_csv(data_path + 'stage_1_train.csv')\n",
    "train_raw['subtype'] = train_raw.ID.map(lambda id: id.split('_')[2])\n",
    "train_raw.ID = train_raw.ID.map(lambda id: id.split('_')[0]+'_'+id.split('_')[1])\n",
    "\n",
    "paths = {\n",
    "    'local_dcm': \"../data/stage_1_test_images/\",\n",
    "    'local_jpg_200': \"../data/stage_1_test_images_jpg/\",\n",
    "    'gs_dcm': \"https://storage.cloud.google.com/fi-capstone-data/data/stage_1_test_images/\",\n",
    "    'gs_jpg_200': \"https://storage.cloud.google.com/fi-capstone-data/data/stage_1_test_images_jpg/\"\n",
    "}\n",
    "\n",
    "for key, path in paths.items():\n",
    "    train_raw[key] = train_raw.ID.map(lambda id: path+id)"
   ]
  },
  {
   "cell_type": "code",
   "execution_count": null,
   "metadata": {},
   "outputs": [],
   "source": []
  },
  {
   "cell_type": "code",
   "execution_count": null,
   "metadata": {},
   "outputs": [],
   "source": []
  },
  {
   "cell_type": "code",
   "execution_count": 3,
   "metadata": {},
   "outputs": [
    {
     "data": {
      "text/plain": [
       "'https://storage.cloud.google.com/fi-capstone-data/data/stage_1_test_images_jpg/ID_63eb1e259'"
      ]
     },
     "execution_count": 3,
     "metadata": {},
     "output_type": "execute_result"
    }
   ],
   "source": [
    "train_raw.gs_jpg_200.head()[0]"
   ]
  },
  {
   "cell_type": "code",
   "execution_count": null,
   "metadata": {},
   "outputs": [],
   "source": []
  }
 ],
 "metadata": {
  "kernelspec": {
   "display_name": "Python 3",
   "language": "python",
   "name": "python3"
  },
  "language_info": {
   "codemirror_mode": {
    "name": "ipython",
    "version": 3
   },
   "file_extension": ".py",
   "mimetype": "text/x-python",
   "name": "python",
   "nbconvert_exporter": "python",
   "pygments_lexer": "ipython3",
   "version": "3.5.3"
  }
 },
 "nbformat": 4,
 "nbformat_minor": 4
}
