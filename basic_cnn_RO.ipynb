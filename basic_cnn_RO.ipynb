{
 "cells": [
  {
   "cell_type": "code",
   "execution_count": 1,
   "metadata": {},
   "outputs": [],
   "source": [
    "# use this as as base for CNN model\n",
    "# https://www.kaggle.com/sunnyguha/basic-cnn-starter"
   ]
  },
  {
   "cell_type": "code",
   "execution_count": 2,
   "metadata": {},
   "outputs": [],
   "source": [
    "# import images - 1000 to begin with and on a lazy basis\n",
    "#   need 1000 images that correspond to 1000 y_train\n",
    "#   images as np.array(1000,size,size,3) and np.array(1000,1)\n",
    "#   user Keras flow from directory\n",
    "\n",
    "# CNN Model\n",
    "#   Layers\n",
    "#   Compile\n",
    "#     During compile stage, set the parameter that you want to minimize\n",
    "#     Weighted column\n",
    "\n",
    "\n",
    "# View results\n",
    "\n",
    "# Check\n",
    "#   In the case of false positives for a class, is it more likely that the result is of a different class or that it is negative in all classes\n"
   ]
  },
  {
   "cell_type": "code",
   "execution_count": null,
   "metadata": {},
   "outputs": [],
   "source": [
    "# Set global variables\n",
    "# un-comment as they are used\n",
    "# batch_size=32\n",
    "# validation_ratio=0.1\n",
    "# sample_size=2000\n",
    "# epochs=3\n",
    "# img_size=512\n",
    "\n",
    "# data_path = \"../data/data/\""
   ]
  },
  {
   "cell_type": "code",
   "execution_count": null,
   "metadata": {},
   "outputs": [],
   "source": [
    "# Questions for Nick\n",
    "\n",
    "# where do we input __init__ parameters?\n",
    "# What does it mean for a class to inherit a sequence\n",
    "\n",
    "# Input of DataGenerator\n",
    "# Sequence + (potentially) various __init__ parameters\n",
    "\n",
    "# Output of DataGenerator\n",
    "# "
   ]
  }
 ],
 "metadata": {
  "kernelspec": {
   "display_name": "Python 3",
   "language": "python",
   "name": "python3"
  },
  "language_info": {
   "codemirror_mode": {
    "name": "ipython",
    "version": 3
   },
   "file_extension": ".py",
   "mimetype": "text/x-python",
   "name": "python",
   "nbconvert_exporter": "python",
   "pygments_lexer": "ipython3",
   "version": "3.5.3"
  }
 },
 "nbformat": 4,
 "nbformat_minor": 4
}
